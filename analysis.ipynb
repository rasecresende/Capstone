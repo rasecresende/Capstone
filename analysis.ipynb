{
 "cells": [
  {
   "cell_type": "code",
   "execution_count": 2,
   "metadata": {},
   "outputs": [],
   "source": [
    "import numpy as np\n",
    "import pandas as pd\n",
    "\n",
    "iee_data = pd.read_csv('tweets_labelled_09042020_16072020.csv',sep=';')"
   ]
  },
  {
   "cell_type": "code",
   "execution_count": 3,
   "metadata": {},
   "outputs": [
    {
     "data": {
      "text/html": [
       "<div>\n",
       "<style scoped>\n",
       "    .dataframe tbody tr th:only-of-type {\n",
       "        vertical-align: middle;\n",
       "    }\n",
       "\n",
       "    .dataframe tbody tr th {\n",
       "        vertical-align: top;\n",
       "    }\n",
       "\n",
       "    .dataframe thead th {\n",
       "        text-align: right;\n",
       "    }\n",
       "</style>\n",
       "<table border=\"1\" class=\"dataframe\">\n",
       "  <thead>\n",
       "    <tr style=\"text-align: right;\">\n",
       "      <th></th>\n",
       "      <th>id</th>\n",
       "      <th>created_at</th>\n",
       "      <th>text</th>\n",
       "      <th>sentiment</th>\n",
       "    </tr>\n",
       "  </thead>\n",
       "  <tbody>\n",
       "    <tr>\n",
       "      <th>4995</th>\n",
       "      <td>411380</td>\n",
       "      <td>2020-06-04 18:14:57+00:00</td>\n",
       "      <td>With ad revenues falling, what’s the impact on...</td>\n",
       "      <td>NaN</td>\n",
       "    </tr>\n",
       "    <tr>\n",
       "      <th>4996</th>\n",
       "      <td>62318</td>\n",
       "      <td>2020-04-14 02:15:01+00:00</td>\n",
       "      <td>RT @KelvinSCWong: Well another point to add to...</td>\n",
       "      <td>NaN</td>\n",
       "    </tr>\n",
       "    <tr>\n",
       "      <th>4997</th>\n",
       "      <td>627230</td>\n",
       "      <td>2020-06-23 14:08:15+00:00</td>\n",
       "      <td>$ITOX working on a contract with a fortune 500...</td>\n",
       "      <td>NaN</td>\n",
       "    </tr>\n",
       "    <tr>\n",
       "      <th>4998</th>\n",
       "      <td>890123</td>\n",
       "      <td>2020-07-14 23:18:34+00:00</td>\n",
       "      <td>$DIS it could break the 120 pin, then 125&amp;gt; ...</td>\n",
       "      <td>NaN</td>\n",
       "    </tr>\n",
       "    <tr>\n",
       "      <th>4999</th>\n",
       "      <td>301411</td>\n",
       "      <td>2020-05-06 04:22:19+00:00</td>\n",
       "      <td>Amedisys Inc $AMED COO Christopher Gerard Sell...</td>\n",
       "      <td>NaN</td>\n",
       "    </tr>\n",
       "  </tbody>\n",
       "</table>\n",
       "</div>"
      ],
      "text/plain": [
       "          id                 created_at  \\\n",
       "4995  411380  2020-06-04 18:14:57+00:00   \n",
       "4996   62318  2020-04-14 02:15:01+00:00   \n",
       "4997  627230  2020-06-23 14:08:15+00:00   \n",
       "4998  890123  2020-07-14 23:18:34+00:00   \n",
       "4999  301411  2020-05-06 04:22:19+00:00   \n",
       "\n",
       "                                                   text sentiment  \n",
       "4995  With ad revenues falling, what’s the impact on...       NaN  \n",
       "4996  RT @KelvinSCWong: Well another point to add to...       NaN  \n",
       "4997  $ITOX working on a contract with a fortune 500...       NaN  \n",
       "4998  $DIS it could break the 120 pin, then 125&gt; ...       NaN  \n",
       "4999  Amedisys Inc $AMED COO Christopher Gerard Sell...       NaN  "
      ]
     },
     "execution_count": 3,
     "metadata": {},
     "output_type": "execute_result"
    }
   ],
   "source": [
    "iee_data.tail()"
   ]
  },
  {
   "cell_type": "code",
   "execution_count": 4,
   "metadata": {},
   "outputs": [
    {
     "data": {
      "text/html": [
       "<div>\n",
       "<style scoped>\n",
       "    .dataframe tbody tr th:only-of-type {\n",
       "        vertical-align: middle;\n",
       "    }\n",
       "\n",
       "    .dataframe tbody tr th {\n",
       "        vertical-align: top;\n",
       "    }\n",
       "\n",
       "    .dataframe thead th {\n",
       "        text-align: right;\n",
       "    }\n",
       "</style>\n",
       "<table border=\"1\" class=\"dataframe\">\n",
       "  <thead>\n",
       "    <tr style=\"text-align: right;\">\n",
       "      <th></th>\n",
       "      <th>id</th>\n",
       "      <th>created_at</th>\n",
       "      <th>text</th>\n",
       "      <th>sentiment</th>\n",
       "    </tr>\n",
       "  </thead>\n",
       "  <tbody>\n",
       "    <tr>\n",
       "      <th>0</th>\n",
       "      <td>77522</td>\n",
       "      <td>2020-04-15 01:03:46+00:00</td>\n",
       "      <td>RT @RobertBeadles: Yo💥\\nEnter to WIN 1,000 Mon...</td>\n",
       "      <td>positive</td>\n",
       "    </tr>\n",
       "    <tr>\n",
       "      <th>1</th>\n",
       "      <td>661634</td>\n",
       "      <td>2020-06-25 06:20:06+00:00</td>\n",
       "      <td>#SriLanka surcharge on fuel removed!\\n⛽📉\\nThe ...</td>\n",
       "      <td>negative</td>\n",
       "    </tr>\n",
       "    <tr>\n",
       "      <th>2</th>\n",
       "      <td>413231</td>\n",
       "      <td>2020-06-04 15:41:45+00:00</td>\n",
       "      <td>Net issuance increases to fund fiscal programs...</td>\n",
       "      <td>positive</td>\n",
       "    </tr>\n",
       "    <tr>\n",
       "      <th>3</th>\n",
       "      <td>760262</td>\n",
       "      <td>2020-07-03 19:39:35+00:00</td>\n",
       "      <td>RT @bentboolean: How much of Amazon's traffic ...</td>\n",
       "      <td>positive</td>\n",
       "    </tr>\n",
       "    <tr>\n",
       "      <th>4</th>\n",
       "      <td>830153</td>\n",
       "      <td>2020-07-09 14:39:14+00:00</td>\n",
       "      <td>$AMD Ryzen 4000 desktop CPUs looking ‘great’ a...</td>\n",
       "      <td>positive</td>\n",
       "    </tr>\n",
       "    <tr>\n",
       "      <th>...</th>\n",
       "      <td>...</td>\n",
       "      <td>...</td>\n",
       "      <td>...</td>\n",
       "      <td>...</td>\n",
       "    </tr>\n",
       "    <tr>\n",
       "      <th>1295</th>\n",
       "      <td>75519</td>\n",
       "      <td>2020-04-15 06:00:10+00:00</td>\n",
       "      <td>#stocks back from the recovery room: https://t...</td>\n",
       "      <td>positive</td>\n",
       "    </tr>\n",
       "    <tr>\n",
       "      <th>1296</th>\n",
       "      <td>739234</td>\n",
       "      <td>2020-07-01 11:29:10+00:00</td>\n",
       "      <td>RT @MacroCharts: Breadth – expanding last week...</td>\n",
       "      <td>positive</td>\n",
       "    </tr>\n",
       "    <tr>\n",
       "      <th>1297</th>\n",
       "      <td>254379</td>\n",
       "      <td>2020-04-29 02:21:50+00:00</td>\n",
       "      <td>RT @MawsonResource: Rompas-Rajapalot: A Big Ne...</td>\n",
       "      <td>neutral</td>\n",
       "    </tr>\n",
       "    <tr>\n",
       "      <th>1298</th>\n",
       "      <td>580441</td>\n",
       "      <td>2020-06-19 17:56:57+00:00</td>\n",
       "      <td>$AAPL $QQQ Top may now be in. https://t.co/iNK...</td>\n",
       "      <td>positive</td>\n",
       "    </tr>\n",
       "    <tr>\n",
       "      <th>1299</th>\n",
       "      <td>625070</td>\n",
       "      <td>2020-06-23 15:47:11+00:00</td>\n",
       "      <td>GLG Partners LP short position in HILTON FOOD ...</td>\n",
       "      <td>negative</td>\n",
       "    </tr>\n",
       "  </tbody>\n",
       "</table>\n",
       "<p>1300 rows × 4 columns</p>\n",
       "</div>"
      ],
      "text/plain": [
       "          id                 created_at  \\\n",
       "0      77522  2020-04-15 01:03:46+00:00   \n",
       "1     661634  2020-06-25 06:20:06+00:00   \n",
       "2     413231  2020-06-04 15:41:45+00:00   \n",
       "3     760262  2020-07-03 19:39:35+00:00   \n",
       "4     830153  2020-07-09 14:39:14+00:00   \n",
       "...      ...                        ...   \n",
       "1295   75519  2020-04-15 06:00:10+00:00   \n",
       "1296  739234  2020-07-01 11:29:10+00:00   \n",
       "1297  254379  2020-04-29 02:21:50+00:00   \n",
       "1298  580441  2020-06-19 17:56:57+00:00   \n",
       "1299  625070  2020-06-23 15:47:11+00:00   \n",
       "\n",
       "                                                   text sentiment  \n",
       "0     RT @RobertBeadles: Yo💥\\nEnter to WIN 1,000 Mon...  positive  \n",
       "1     #SriLanka surcharge on fuel removed!\\n⛽📉\\nThe ...  negative  \n",
       "2     Net issuance increases to fund fiscal programs...  positive  \n",
       "3     RT @bentboolean: How much of Amazon's traffic ...  positive  \n",
       "4     $AMD Ryzen 4000 desktop CPUs looking ‘great’ a...  positive  \n",
       "...                                                 ...       ...  \n",
       "1295  #stocks back from the recovery room: https://t...  positive  \n",
       "1296  RT @MacroCharts: Breadth – expanding last week...  positive  \n",
       "1297  RT @MawsonResource: Rompas-Rajapalot: A Big Ne...   neutral  \n",
       "1298  $AAPL $QQQ Top may now be in. https://t.co/iNK...  positive  \n",
       "1299  GLG Partners LP short position in HILTON FOOD ...  negative  \n",
       "\n",
       "[1300 rows x 4 columns]"
      ]
     },
     "execution_count": 4,
     "metadata": {},
     "output_type": "execute_result"
    }
   ],
   "source": [
    "iee_data.dropna()"
   ]
  },
  {
   "cell_type": "code",
   "execution_count": 7,
   "metadata": {},
   "outputs": [
    {
     "data": {
      "text/plain": [
       "[Text(0, 0, 'Negative'), Text(1, 0, 'Neutral'), Text(2, 0, 'Positive')]"
      ]
     },
     "execution_count": 7,
     "metadata": {},
     "output_type": "execute_result"
    },
    {
     "data": {
      "image/png": "[encoded data removed]",
      "text/plain": [
       "<Figure size 432x288 with 1 Axes>"
      ]
     },
     "metadata": {
      "needs_background": "light"
     },
     "output_type": "display_data"
    }
   ],
   "source": [
    "# Plotting the distribution for dataset.\n",
    "ax = iee_data.groupby('sentiment').count().plot(kind='bar', title='Distribution of data',legend=False)\n",
    "ax.set_xticklabels(['Negative', 'Neutral', 'Positive'], rotation=0)"
   ]
  },
  {
   "cell_type": "code",
   "execution_count": null,
   "metadata": {},
   "outputs": [],
   "source": []
  },
  {
   "cell_type": "code",
   "execution_count": null,
   "metadata": {},
   "outputs": [],
   "source": []
  }
 ],
 "metadata": {
  "kernelspec": {
   "display_name": "Python 3 (ipykernel)",
   "language": "python",
   "name": "python3"
  },
  "language_info": {
   "codemirror_mode": {
    "name": "ipython",
    "version": 3
   },
   "file_extension": ".py",
   "mimetype": "text/x-python",
   "name": "python",
   "nbconvert_exporter": "python",
   "pygments_lexer": "ipython3",
   "version": "3.8.12"
  }
 },
 "nbformat": 4,
 "nbformat_minor": 4
}
