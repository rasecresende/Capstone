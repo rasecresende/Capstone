{
 "cells": [
  {
   "cell_type": "code",
   "execution_count": 22,
   "id": "b673b42a-1298-4ff2-916e-43c74d6f3e38",
   "metadata": {},
   "outputs": [],
   "source": [
    "import numpy as np\n",
    "import pandas as pd\n",
    "from vaderSentiment.vaderSentiment import SentimentIntensityAnalyzer\n",
    "from sklearn.metrics import accuracy_score\n",
    "from textblob import TextBlob"
   ]
  },
  {
   "cell_type": "markdown",
   "id": "9c41707e-438b-45e7-961a-b7d4d0ca2c16",
   "metadata": {},
   "source": [
    "# Vader Score"
   ]
  },
  {
   "cell_type": "code",
   "execution_count": 23,
   "id": "725ea436-8645-47ac-8ff7-fc79f028b32e",
   "metadata": {},
   "outputs": [
    {
     "data": {
      "text/html": [
       "<div>\n",
       "<style scoped>\n",
       "    .dataframe tbody tr th:only-of-type {\n",
       "        vertical-align: middle;\n",
       "    }\n",
       "\n",
       "    .dataframe tbody tr th {\n",
       "        vertical-align: top;\n",
       "    }\n",
       "\n",
       "    .dataframe thead th {\n",
       "        text-align: right;\n",
       "    }\n",
       "</style>\n",
       "<table border=\"1\" class=\"dataframe\">\n",
       "  <thead>\n",
       "    <tr style=\"text-align: right;\">\n",
       "      <th></th>\n",
       "      <th>id</th>\n",
       "      <th>created_at</th>\n",
       "      <th>text</th>\n",
       "      <th>sentiment</th>\n",
       "      <th>label</th>\n",
       "    </tr>\n",
       "  </thead>\n",
       "  <tbody>\n",
       "    <tr>\n",
       "      <th>0</th>\n",
       "      <td>77522</td>\n",
       "      <td>2020-04-15 01:03:46+00:00</td>\n",
       "      <td>RT @RobertBeadles: Yo💥\\nEnter to WIN 1,000 Mon...</td>\n",
       "      <td>positive</td>\n",
       "      <td>1</td>\n",
       "    </tr>\n",
       "    <tr>\n",
       "      <th>1</th>\n",
       "      <td>661634</td>\n",
       "      <td>2020-06-25 06:20:06+00:00</td>\n",
       "      <td>#SriLanka surcharge on fuel removed!\\n⛽📉\\nThe ...</td>\n",
       "      <td>negative</td>\n",
       "      <td>-1</td>\n",
       "    </tr>\n",
       "    <tr>\n",
       "      <th>2</th>\n",
       "      <td>413231</td>\n",
       "      <td>2020-06-04 15:41:45+00:00</td>\n",
       "      <td>Net issuance increases to fund fiscal programs...</td>\n",
       "      <td>positive</td>\n",
       "      <td>1</td>\n",
       "    </tr>\n",
       "    <tr>\n",
       "      <th>3</th>\n",
       "      <td>760262</td>\n",
       "      <td>2020-07-03 19:39:35+00:00</td>\n",
       "      <td>RT @bentboolean: How much of Amazon's traffic ...</td>\n",
       "      <td>positive</td>\n",
       "      <td>1</td>\n",
       "    </tr>\n",
       "    <tr>\n",
       "      <th>4</th>\n",
       "      <td>830153</td>\n",
       "      <td>2020-07-09 14:39:14+00:00</td>\n",
       "      <td>$AMD Ryzen 4000 desktop CPUs looking ‘great’ a...</td>\n",
       "      <td>positive</td>\n",
       "      <td>1</td>\n",
       "    </tr>\n",
       "  </tbody>\n",
       "</table>\n",
       "</div>"
      ],
      "text/plain": [
       "       id                 created_at  \\\n",
       "0   77522  2020-04-15 01:03:46+00:00   \n",
       "1  661634  2020-06-25 06:20:06+00:00   \n",
       "2  413231  2020-06-04 15:41:45+00:00   \n",
       "3  760262  2020-07-03 19:39:35+00:00   \n",
       "4  830153  2020-07-09 14:39:14+00:00   \n",
       "\n",
       "                                                text sentiment  label  \n",
       "0  RT @RobertBeadles: Yo💥\\nEnter to WIN 1,000 Mon...  positive      1  \n",
       "1  #SriLanka surcharge on fuel removed!\\n⛽📉\\nThe ...  negative     -1  \n",
       "2  Net issuance increases to fund fiscal programs...  positive      1  \n",
       "3  RT @bentboolean: How much of Amazon's traffic ...  positive      1  \n",
       "4  $AMD Ryzen 4000 desktop CPUs looking ‘great’ a...  positive      1  "
      ]
     },
     "execution_count": 23,
     "metadata": {},
     "output_type": "execute_result"
    }
   ],
   "source": [
    "df = pd.read_csv('Data/iee_data.csv')\n",
    "\n",
    "df.head()"
   ]
  },
  {
   "cell_type": "code",
   "execution_count": 24,
   "id": "793fc22c-a317-4c04-b3db-1e88f6ffcb55",
   "metadata": {},
   "outputs": [],
   "source": [
    "analyzer = SentimentIntensityAnalyzer()"
   ]
  },
  {
   "cell_type": "code",
   "execution_count": 25,
   "id": "e80c5d70-3805-4046-a69a-3902ea276575",
   "metadata": {},
   "outputs": [],
   "source": [
    "# calculate score\n",
    "def get_vader_score(sentence): \n",
    "    compound=analyzer.polarity_scores(sentence)['compound']\n",
    "    if compound >= 0.05: \n",
    "        return 1\n",
    "    elif (compound > -0.05) and (compound <0.05): \n",
    "        return 0\n",
    "    if compound <= 0.05:\n",
    "        return -1\n",
    "    \n",
    "df['vader']=df.apply(lambda x: get_vader_score(x['text']), axis=1)"
   ]
  },
  {
   "cell_type": "code",
   "execution_count": 26,
   "id": "ee11fdde-3d4c-4ec4-aba6-c8200912ce25",
   "metadata": {},
   "outputs": [
    {
     "data": {
      "text/html": [
       "<div>\n",
       "<style scoped>\n",
       "    .dataframe tbody tr th:only-of-type {\n",
       "        vertical-align: middle;\n",
       "    }\n",
       "\n",
       "    .dataframe tbody tr th {\n",
       "        vertical-align: top;\n",
       "    }\n",
       "\n",
       "    .dataframe thead th {\n",
       "        text-align: right;\n",
       "    }\n",
       "</style>\n",
       "<table border=\"1\" class=\"dataframe\">\n",
       "  <thead>\n",
       "    <tr style=\"text-align: right;\">\n",
       "      <th></th>\n",
       "      <th>id</th>\n",
       "      <th>created_at</th>\n",
       "      <th>text</th>\n",
       "      <th>sentiment</th>\n",
       "      <th>label</th>\n",
       "      <th>vader</th>\n",
       "    </tr>\n",
       "  </thead>\n",
       "  <tbody>\n",
       "    <tr>\n",
       "      <th>0</th>\n",
       "      <td>77522</td>\n",
       "      <td>2020-04-15 01:03:46+00:00</td>\n",
       "      <td>RT @RobertBeadles: Yo💥\\nEnter to WIN 1,000 Mon...</td>\n",
       "      <td>positive</td>\n",
       "      <td>1</td>\n",
       "      <td>1</td>\n",
       "    </tr>\n",
       "    <tr>\n",
       "      <th>1</th>\n",
       "      <td>661634</td>\n",
       "      <td>2020-06-25 06:20:06+00:00</td>\n",
       "      <td>#SriLanka surcharge on fuel removed!\\n⛽📉\\nThe ...</td>\n",
       "      <td>negative</td>\n",
       "      <td>-1</td>\n",
       "      <td>1</td>\n",
       "    </tr>\n",
       "    <tr>\n",
       "      <th>2</th>\n",
       "      <td>413231</td>\n",
       "      <td>2020-06-04 15:41:45+00:00</td>\n",
       "      <td>Net issuance increases to fund fiscal programs...</td>\n",
       "      <td>positive</td>\n",
       "      <td>1</td>\n",
       "      <td>-1</td>\n",
       "    </tr>\n",
       "    <tr>\n",
       "      <th>3</th>\n",
       "      <td>760262</td>\n",
       "      <td>2020-07-03 19:39:35+00:00</td>\n",
       "      <td>RT @bentboolean: How much of Amazon's traffic ...</td>\n",
       "      <td>positive</td>\n",
       "      <td>1</td>\n",
       "      <td>1</td>\n",
       "    </tr>\n",
       "    <tr>\n",
       "      <th>4</th>\n",
       "      <td>830153</td>\n",
       "      <td>2020-07-09 14:39:14+00:00</td>\n",
       "      <td>$AMD Ryzen 4000 desktop CPUs looking ‘great’ a...</td>\n",
       "      <td>positive</td>\n",
       "      <td>1</td>\n",
       "      <td>0</td>\n",
       "    </tr>\n",
       "  </tbody>\n",
       "</table>\n",
       "</div>"
      ],
      "text/plain": [
       "       id                 created_at  \\\n",
       "0   77522  2020-04-15 01:03:46+00:00   \n",
       "1  661634  2020-06-25 06:20:06+00:00   \n",
       "2  413231  2020-06-04 15:41:45+00:00   \n",
       "3  760262  2020-07-03 19:39:35+00:00   \n",
       "4  830153  2020-07-09 14:39:14+00:00   \n",
       "\n",
       "                                                text sentiment  label  vader  \n",
       "0  RT @RobertBeadles: Yo💥\\nEnter to WIN 1,000 Mon...  positive      1      1  \n",
       "1  #SriLanka surcharge on fuel removed!\\n⛽📉\\nThe ...  negative     -1      1  \n",
       "2  Net issuance increases to fund fiscal programs...  positive      1     -1  \n",
       "3  RT @bentboolean: How much of Amazon's traffic ...  positive      1      1  \n",
       "4  $AMD Ryzen 4000 desktop CPUs looking ‘great’ a...  positive      1      0  "
      ]
     },
     "execution_count": 26,
     "metadata": {},
     "output_type": "execute_result"
    }
   ],
   "source": [
    "df.head()"
   ]
  },
  {
   "cell_type": "code",
   "execution_count": 27,
   "id": "92716cf5-d71c-4cd8-a92e-c82fb7d8a2c0",
   "metadata": {},
   "outputs": [
    {
     "name": "stdout",
     "output_type": "stream",
     "text": [
      "Accuracy: 0.6661538461538462\n"
     ]
    }
   ],
   "source": [
    "print(f'Accuracy: {accuracy_score(df.dropna()[\"label\"].values, df.dropna()[\"vader\"].values)}')"
   ]
  },
  {
   "cell_type": "markdown",
   "id": "471489a4-28ba-4898-8886-4f8643512bc8",
   "metadata": {},
   "source": [
    "# TextBlob"
   ]
  },
  {
   "cell_type": "code",
   "execution_count": 28,
   "id": "06f9e63f-66fa-4d2d-a0f9-10d7539764e3",
   "metadata": {},
   "outputs": [],
   "source": [
    "scores_blob = []\n",
    "\n",
    "# Declare variables for scores\n",
    "polarity = []\n",
    "subjectivity = []\n",
    "\n",
    "for i in range(df['text'].shape[0]):\n",
    "    polarity = TextBlob(df['text'][i]).sentiment[0]\n",
    "    subjectivity = TextBlob(df['text'][i]).sentiment[1]\n",
    "    \n",
    "    scores_blob.append({\"Polarity_blob\": polarity,\n",
    "                       \"Subjectivity_blob\": subjectivity\n",
    "                  })"
   ]
  },
  {
   "cell_type": "code",
   "execution_count": 29,
   "id": "1fd28898-e4fd-4f34-8b31-7988f41e75fe",
   "metadata": {},
   "outputs": [],
   "source": [
    "sentiments_score_blob = pd.DataFrame.from_dict(scores_blob)\n",
    "df = df.join(sentiments_score_blob)\n",
    "\n",
    "def getAnalysis(score):\n",
    "    if score >= 0.05: \n",
    "        return 1\n",
    "    elif (score > -0.05) and (score <0.05): \n",
    "        return 0\n",
    "    if score <= 0.05:\n",
    "        return -1\n",
    "    \n",
    "df['blob'] = df['Polarity_blob'].apply(getAnalysis)"
   ]
  },
  {
   "cell_type": "code",
   "execution_count": 30,
   "id": "8bc85c5e-1f13-4aad-a849-86f23c0759ee",
   "metadata": {},
   "outputs": [
    {
     "name": "stdout",
     "output_type": "stream",
     "text": [
      "Accuracy: 0.5261538461538462\n"
     ]
    }
   ],
   "source": [
    "print(f'Accuracy: {accuracy_score(df.dropna()[\"label\"].values, df.dropna()[\"blob\"].values)}')"
   ]
  },
  {
   "cell_type": "markdown",
   "id": "75a8270e-5202-4243-9e51-26271271d13f",
   "metadata": {},
   "source": [
    "# SentiWordNet"
   ]
  },
  {
   "cell_type": "code",
   "execution_count": null,
   "id": "ca954fd2-c681-4214-b2e0-b90ffed5b0a0",
   "metadata": {},
   "outputs": [],
   "source": []
  }
 ],
 "metadata": {
  "kernelspec": {
   "display_name": "Python 3 (ipykernel)",
   "language": "python",
   "name": "python3"
  },
  "language_info": {
   "codemirror_mode": {
    "name": "ipython",
    "version": 3
   },
   "file_extension": ".py",
   "mimetype": "text/x-python",
   "name": "python",
   "nbconvert_exporter": "python",
   "pygments_lexer": "ipython3",
   "version": "3.8.12"
  }
 },
 "nbformat": 4,
 "nbformat_minor": 5
}
