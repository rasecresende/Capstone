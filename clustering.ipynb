{
 "cells": [
  {
   "cell_type": "code",
   "execution_count": 1,
   "id": "3ece0968-edda-404e-8d54-0d133482bfd6",
   "metadata": {},
   "outputs": [],
   "source": [
    "import pandas as pd\n",
    "import numpy as np\n",
    "from gensim.models import Word2Vec\n",
    "from sklearn.cluster import KMeans"
   ]
  },
  {
   "cell_type": "code",
   "execution_count": 2,
   "id": "e9504cb1-5cf3-4eda-9b1f-add056633d56",
   "metadata": {},
   "outputs": [],
   "source": [
    "word_vectors = Word2Vec.load(\"word2vec.model\").wv"
   ]
  },
  {
   "cell_type": "code",
   "execution_count": 8,
   "id": "1583b536-818b-470f-82cd-d47e055a11f7",
   "metadata": {},
   "outputs": [],
   "source": [
    "model = KMeans(n_clusters=2, max_iter=1000, random_state=True, n_init=50).fit(X=word_vectors.vectors.astype('double'))"
   ]
  },
  {
   "cell_type": "code",
   "execution_count": 13,
   "id": "7d3463d1-47bc-4a4b-be5e-c703b0bd0f6a",
   "metadata": {},
   "outputs": [
    {
     "data": {
      "text/plain": [
       "[('earth', 0.2782830595970154),\n",
       " ('4100', 0.2429516464471817),\n",
       " ('fy', 0.22961512207984924),\n",
       " ('apps', 0.22355006635189056),\n",
       " ('aapl_ong', 0.22008062899112701),\n",
       " ('10_01', 0.21893925964832306),\n",
       " ('sos_metx', 0.21289603412151337),\n",
       " ('hopefully', 0.2097347378730774),\n",
       " ('msft_4hr', 0.20859090983867645),\n",
       " ('marathon', 0.208247110247612)]"
      ]
     },
     "execution_count": 13,
     "metadata": {},
     "output_type": "execute_result"
    }
   ],
   "source": [
    "word_vectors.similar_by_vector(model.cluster_centers_[0], topn=10, restrict_vocab=None)"
   ]
  },
  {
   "cell_type": "code",
   "execution_count": 16,
   "id": "cf4055fb-6bfd-4a55-b070-441a7d85ad01",
   "metadata": {},
   "outputs": [],
   "source": [
    "positive_cluster_index = 1\n",
    "positive_cluster_center = model.cluster_centers_[1]\n",
    "#neutral_cluser_center = model.cluster_centers_[1-positive_cluster_index]\n",
    "negative_cluster_center = model.cluster_centers_[0]"
   ]
  },
  {
   "cell_type": "code",
   "execution_count": 17,
   "id": "d04afbf6-1f11-483e-91ec-85dd88e850f2",
   "metadata": {},
   "outputs": [],
   "source": [
    "words = pd.DataFrame(list(word_vectors.key_to_index)) #not sure if this is the right attribute"
   ]
  },
  {
   "cell_type": "code",
   "execution_count": 18,
   "id": "060be45a-12a6-44b5-a9f1-3523887d4d6f",
   "metadata": {},
   "outputs": [],
   "source": [
    "words.columns = ['words']\n",
    "words['vectors'] = words.words.apply(lambda x: word_vectors[f'{x}'])\n",
    "words['cluster'] = words.vectors.apply(lambda x: model.predict([np.array(x)]))\n",
    "words.cluster = words.cluster.apply(lambda x: x[0])"
   ]
  },
  {
   "cell_type": "code",
   "execution_count": 19,
   "id": "d54b8f64-391e-46ee-8498-349a0cdec6c9",
   "metadata": {},
   "outputs": [],
   "source": [
    "words['cluster_value'] = [1 if i==positive_cluster_index else -1 for i in words.cluster]\n",
    "words['closeness_score'] = words.apply(lambda x: 1/(model.transform([x.vectors]).min()), axis=1)\n",
    "words['sentiment_coeff'] = words.closeness_score * words.cluster_value"
   ]
  },
  {
   "cell_type": "code",
   "execution_count": 25,
   "id": "2533215a-c1e5-4b87-95f7-35136d3ccdcd",
   "metadata": {},
   "outputs": [
    {
     "data": {
      "text/html": [
       "<div>\n",
       "<style scoped>\n",
       "    .dataframe tbody tr th:only-of-type {\n",
       "        vertical-align: middle;\n",
       "    }\n",
       "\n",
       "    .dataframe tbody tr th {\n",
       "        vertical-align: top;\n",
       "    }\n",
       "\n",
       "    .dataframe thead th {\n",
       "        text-align: right;\n",
       "    }\n",
       "</style>\n",
       "<table border=\"1\" class=\"dataframe\">\n",
       "  <thead>\n",
       "    <tr style=\"text-align: right;\">\n",
       "      <th></th>\n",
       "      <th>words</th>\n",
       "      <th>vectors</th>\n",
       "      <th>cluster</th>\n",
       "      <th>cluster_value</th>\n",
       "      <th>closeness_score</th>\n",
       "      <th>sentiment_coeff</th>\n",
       "    </tr>\n",
       "  </thead>\n",
       "  <tbody>\n",
       "    <tr>\n",
       "      <th>0</th>\n",
       "      <td>amc</td>\n",
       "      <td>[-0.00017874241, 7.881006e-05, 0.0017011166, 0...</td>\n",
       "      <td>0</td>\n",
       "      <td>-1</td>\n",
       "      <td>30.354506</td>\n",
       "      <td>-30.354506</td>\n",
       "    </tr>\n",
       "    <tr>\n",
       "      <th>1</th>\n",
       "      <td>!</td>\n",
       "      <td>[-0.0027475595, 0.003099785, -6.5886976e-05, -...</td>\n",
       "      <td>1</td>\n",
       "      <td>1</td>\n",
       "      <td>29.075595</td>\n",
       "      <td>29.075595</td>\n",
       "    </tr>\n",
       "    <tr>\n",
       "      <th>2</th>\n",
       "      <td>gme</td>\n",
       "      <td>[0.0027107573, -0.0014857785, -0.00035611948, ...</td>\n",
       "      <td>1</td>\n",
       "      <td>1</td>\n",
       "      <td>30.799056</td>\n",
       "      <td>30.799056</td>\n",
       "    </tr>\n",
       "    <tr>\n",
       "      <th>3</th>\n",
       "      <td>aapl</td>\n",
       "      <td>[-0.0017187477, -0.0022227797, -0.0025922784, ...</td>\n",
       "      <td>0</td>\n",
       "      <td>-1</td>\n",
       "      <td>30.949872</td>\n",
       "      <td>-30.949872</td>\n",
       "    </tr>\n",
       "    <tr>\n",
       "      <th>4</th>\n",
       "      <td>amzn</td>\n",
       "      <td>[-0.0006480726, -0.0017558407, 0.0031490372, -...</td>\n",
       "      <td>0</td>\n",
       "      <td>-1</td>\n",
       "      <td>29.346160</td>\n",
       "      <td>-29.346160</td>\n",
       "    </tr>\n",
       "    <tr>\n",
       "      <th>5</th>\n",
       "      <td>i</td>\n",
       "      <td>[-0.002396981, 0.0014109635, 0.00072113116, 0....</td>\n",
       "      <td>1</td>\n",
       "      <td>1</td>\n",
       "      <td>28.141436</td>\n",
       "      <td>28.141436</td>\n",
       "    </tr>\n",
       "    <tr>\n",
       "      <th>6</th>\n",
       "      <td>msft</td>\n",
       "      <td>[0.0032451828, -0.0032601277, -0.0021664968, 0...</td>\n",
       "      <td>0</td>\n",
       "      <td>-1</td>\n",
       "      <td>30.880918</td>\n",
       "      <td>-30.880918</td>\n",
       "    </tr>\n",
       "    <tr>\n",
       "      <th>7</th>\n",
       "      <td>?</td>\n",
       "      <td>[0.0004441746, 0.0021802855, 0.003328201, 0.00...</td>\n",
       "      <td>1</td>\n",
       "      <td>1</td>\n",
       "      <td>29.964274</td>\n",
       "      <td>29.964274</td>\n",
       "    </tr>\n",
       "    <tr>\n",
       "      <th>8</th>\n",
       "      <td>bb</td>\n",
       "      <td>[-0.0016578555, -0.00042776822, 0.0010935458, ...</td>\n",
       "      <td>1</td>\n",
       "      <td>1</td>\n",
       "      <td>29.765712</td>\n",
       "      <td>29.765712</td>\n",
       "    </tr>\n",
       "    <tr>\n",
       "      <th>9</th>\n",
       "      <td>tsla</td>\n",
       "      <td>[0.00070450467, 0.001911718, -0.00070546946, 0...</td>\n",
       "      <td>0</td>\n",
       "      <td>-1</td>\n",
       "      <td>29.708276</td>\n",
       "      <td>-29.708276</td>\n",
       "    </tr>\n",
       "  </tbody>\n",
       "</table>\n",
       "</div>"
      ],
      "text/plain": [
       "  words                                            vectors  cluster  \\\n",
       "0   amc  [-0.00017874241, 7.881006e-05, 0.0017011166, 0...        0   \n",
       "1     !  [-0.0027475595, 0.003099785, -6.5886976e-05, -...        1   \n",
       "2   gme  [0.0027107573, -0.0014857785, -0.00035611948, ...        1   \n",
       "3  aapl  [-0.0017187477, -0.0022227797, -0.0025922784, ...        0   \n",
       "4  amzn  [-0.0006480726, -0.0017558407, 0.0031490372, -...        0   \n",
       "5     i  [-0.002396981, 0.0014109635, 0.00072113116, 0....        1   \n",
       "6  msft  [0.0032451828, -0.0032601277, -0.0021664968, 0...        0   \n",
       "7     ?  [0.0004441746, 0.0021802855, 0.003328201, 0.00...        1   \n",
       "8    bb  [-0.0016578555, -0.00042776822, 0.0010935458, ...        1   \n",
       "9  tsla  [0.00070450467, 0.001911718, -0.00070546946, 0...        0   \n",
       "\n",
       "   cluster_value  closeness_score  sentiment_coeff  \n",
       "0             -1        30.354506       -30.354506  \n",
       "1              1        29.075595        29.075595  \n",
       "2              1        30.799056        30.799056  \n",
       "3             -1        30.949872       -30.949872  \n",
       "4             -1        29.346160       -29.346160  \n",
       "5              1        28.141436        28.141436  \n",
       "6             -1        30.880918       -30.880918  \n",
       "7              1        29.964274        29.964274  \n",
       "8              1        29.765712        29.765712  \n",
       "9             -1        29.708276       -29.708276  "
      ]
     },
     "execution_count": 25,
     "metadata": {},
     "output_type": "execute_result"
    }
   ],
   "source": [
    "words.head(10)"
   ]
  },
  {
   "cell_type": "code",
   "execution_count": 28,
   "id": "b5ff7482-1817-4cfe-b050-a09e09608267",
   "metadata": {},
   "outputs": [],
   "source": [
    "words[['words', 'sentiment_coeff']].to_csv('sentiment_dictionary.csv', index=False)"
   ]
  },
  {
   "cell_type": "code",
   "execution_count": 37,
   "id": "67d6d2f8-8756-4cb0-9314-c355aa350cda",
   "metadata": {},
   "outputs": [
    {
     "data": {
      "text/html": [
       "<div>\n",
       "<style scoped>\n",
       "    .dataframe tbody tr th:only-of-type {\n",
       "        vertical-align: middle;\n",
       "    }\n",
       "\n",
       "    .dataframe tbody tr th {\n",
       "        vertical-align: top;\n",
       "    }\n",
       "\n",
       "    .dataframe thead th {\n",
       "        text-align: right;\n",
       "    }\n",
       "</style>\n",
       "<table border=\"1\" class=\"dataframe\">\n",
       "  <thead>\n",
       "    <tr style=\"text-align: right;\">\n",
       "      <th></th>\n",
       "      <th>words</th>\n",
       "      <th>vectors</th>\n",
       "      <th>cluster</th>\n",
       "      <th>cluster_value</th>\n",
       "      <th>closeness_score</th>\n",
       "      <th>sentiment_coeff</th>\n",
       "    </tr>\n",
       "  </thead>\n",
       "  <tbody>\n",
       "    <tr>\n",
       "      <th>88</th>\n",
       "      <td>short</td>\n",
       "      <td>[0.0024352146, 0.0027783306, -0.0007192111, -3...</td>\n",
       "      <td>0</td>\n",
       "      <td>-1</td>\n",
       "      <td>31.163117</td>\n",
       "      <td>-31.163117</td>\n",
       "    </tr>\n",
       "  </tbody>\n",
       "</table>\n",
       "</div>"
      ],
      "text/plain": [
       "    words                                            vectors  cluster  \\\n",
       "88  short  [0.0024352146, 0.0027783306, -0.0007192111, -3...        0   \n",
       "\n",
       "    cluster_value  closeness_score  sentiment_coeff  \n",
       "88             -1        31.163117       -31.163117  "
      ]
     },
     "execution_count": 37,
     "metadata": {},
     "output_type": "execute_result"
    }
   ],
   "source": [
    "words[words['words']== 'short']"
   ]
  },
  {
   "cell_type": "code",
   "execution_count": null,
   "id": "64cf56b5-feca-4491-9533-4436d7c861b8",
   "metadata": {},
   "outputs": [],
   "source": []
  },
  {
   "cell_type": "code",
   "execution_count": null,
   "id": "845f00ab-f855-42cd-8ee5-460b97001afe",
   "metadata": {},
   "outputs": [],
   "source": []
  },
  {
   "cell_type": "code",
   "execution_count": null,
   "id": "f16dc8db-3648-4ab3-aff5-96d8040b3044",
   "metadata": {},
   "outputs": [],
   "source": []
  }
 ],
 "metadata": {
  "kernelspec": {
   "display_name": "Python 3 (ipykernel)",
   "language": "python",
   "name": "python3"
  },
  "language_info": {
   "codemirror_mode": {
    "name": "ipython",
    "version": 3
   },
   "file_extension": ".py",
   "mimetype": "text/x-python",
   "name": "python",
   "nbconvert_exporter": "python",
   "pygments_lexer": "ipython3",
   "version": "3.8.12"
  }
 },
 "nbformat": 4,
 "nbformat_minor": 5
}
