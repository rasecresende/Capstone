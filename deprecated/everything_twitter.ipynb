{
 "cells": [
  {
   "cell_type": "markdown",
   "metadata": {},
   "source": [
    "### Accessing the API"
   ]
  },
  {
   "cell_type": "code",
   "execution_count": 2,
   "metadata": {},
   "outputs": [
    {
     "name": "stdout",
     "output_type": "stream",
     "text": [
      "Authentication OK\n"
     ]
    }
   ],
   "source": [
    "#stops annoying deprecation warnings\n",
    "def warn(*args, **kwargs):\n",
    "    pass\n",
    "import warnings\n",
    "warnings.warn = warn\n",
    "\n",
    "import tweepy\n",
    "import numpy as np\n",
    "import pandas as pd\n",
    "import matplotlib.pyplot as plt\n",
    "\n",
    "# Variables that contains the credentials to access Twitter API\n",
    "access_token = \"1448945590046429231-T2ILZExNgwfyfMdNZOeqNddriW0zqY\"\n",
    "access_secret = \"ov6408TNBm51LoLonCTdrkOxhTI4qyZ0vfWbCFBvwpY4M\"\n",
    "consumer_key = \"nnZZPRiNSrpH3OkD8Mbmm8eK1\"\n",
    "consumer_secret = \"LR12mPsQjJ6vOw8KTEBDlG5xHdOikQhXYHBUCpVuFlpfi2gaQ2\"\n",
    "\n",
    "\n",
    "# Authenticate to Twitter\n",
    "auth = tweepy.OAuthHandler(consumer_key, consumer_secret)\n",
    "auth.set_access_token(access_token, access_secret)\n",
    "\n",
    "# Create API object\n",
    "api = tweepy.API(auth, wait_on_rate_limit=True)\n",
    "\n",
    "\n",
    "\n",
    "try:\n",
    "    api.verify_credentials()\n",
    "    print(\"Authentication OK\")\n",
    "except:\n",
    "    print(\"Error during authentication\")"
   ]
  },
  {
   "cell_type": "markdown",
   "metadata": {},
   "source": [
    "### Retrieving tweets"
   ]
  },
  {
   "cell_type": "markdown",
   "metadata": {},
   "source": [
    "We have to define what companies to include in the analysis. Ideally, I want to retrieve the top 10 monst mentioned companies of the week and use the model on them. For now, I'm just picking some arbitrary ones...\n",
    "\n",
    "Also have to figure out how to query multiple companies together"
   ]
  },
  {
   "cell_type": "code",
   "execution_count": 3,
   "metadata": {},
   "outputs": [],
   "source": [
    "Most_Active = ['$TSLA', '$AAPL', '$DOVA']   #important to add OR for the q parameter"
   ]
  },
  {
   "cell_type": "code",
   "execution_count": 4,
   "metadata": {},
   "outputs": [],
   "source": [
    "\n",
    "#searching for mentions of tesla stock\n",
    "#search_words = Most_Active + \" -filter:retweets\" # we can choose to filter retweets \n",
    "\n",
    "#date_since = \"2020-10-01\" This is not working / have to figure how to filter by time\n",
    "\n",
    "\n",
    "#tweets = tweepy.Cursor(api.search_tweets,\n",
    "#              q= search_words,\n",
    "#              lang=\"en\").items(100)\n",
    "\n",
    "\n",
    "\n",
    "# fuction to extract data from tweet object\n",
    "def extract_tweet_attributes(stocks):\n",
    "\n",
    "    # create empty list\n",
    "    tweet_list =[]\n",
    "    \n",
    "    #We iterate for each one of the companies in our original list\n",
    "    for i in range(len(stocks)):\n",
    "        \n",
    "        tweets = tweepy.Cursor(api.search_tweets,\n",
    "                  q= Most_Active[i] + \" -filter:retweets\",\n",
    "                  lang=\"en\").items(1000) # we are only pulling 100 tweets for testing purposes\n",
    "\n",
    "        # loop through tweet objects\n",
    "        for tweet in tweets:\n",
    "            name = tweet.user.screen_name\n",
    "            location = tweet.user.location\n",
    "            verified = tweet.user.verified\n",
    "            text = tweet.text # utf-8 text of tweet\n",
    "            created_at = tweet.created_at # utc time tweet created\n",
    "            source = tweet.source # utility used to post tweet\n",
    "            retweets = tweet.retweet_count # number of times this tweet retweeted\n",
    "            favorites = tweet.favorite_count # number of time this tweet liked\n",
    "\n",
    "\n",
    "            # append attributes to list\n",
    "            tweet_list.append({'name':name,\n",
    "                               'location':location,\n",
    "                               'verified':verified,\n",
    "                               'text':text,\n",
    "                               'created_at':created_at,\n",
    "                               'source':source,\n",
    "                               'retweets':retweets,\n",
    "                               'favorites':favorites,\n",
    "                               'Ticker': stocks[i]}) # have to append ticker name to reference later\n",
    "\n",
    "\n",
    "        # create dataframe   \n",
    "    df = pd.DataFrame(tweet_list, columns=['name',\n",
    "                                            'location',\n",
    "                                            'verified',\n",
    "                                            'text',\n",
    "                                            'created_at',\n",
    "                                            'source',\n",
    "                                            'retweets',\n",
    "                                            'favorites',\n",
    "                                            'Ticker'])\n",
    "    \n",
    "    \n",
    "    return df\n",
    "\n",
    "\n",
    "df = extract_tweet_attributes(Most_Active)"
   ]
  },
  {
   "cell_type": "markdown",
   "metadata": {},
   "source": [
    "A big assumption that we are doing here is thay by querying by ticker we are essentially only getting financial sentiment for the company, and not necessarily product related data.\n",
    "\n",
    "For example, we want tweets saying \"AAPL stock is bad\" rather than \"Iphone is bad\""
   ]
  },
  {
   "cell_type": "markdown",
   "metadata": {},
   "source": [
    "### Creating dataframe"
   ]
  },
  {
   "cell_type": "markdown",
   "metadata": {},
   "source": [
    "The most important information is the following\n",
    "\n",
    "\n",
    "From the user object information, we want:\n",
    "\n",
    "- Screen Name\n",
    "- Location\n",
    "- Verified or not\n",
    "\n",
    "From the tweet object information, we want:\n",
    "- The time\n",
    "- The tweet itself\n",
    "- Number of retweets\n",
    "- Favorites\n",
    "- Source?? (maybe we'll see)"
   ]
  },
  {
   "cell_type": "code",
   "execution_count": 5,
   "metadata": {},
   "outputs": [
    {
     "data": {
      "text/html": [
       "<div>\n",
       "<style scoped>\n",
       "    .dataframe tbody tr th:only-of-type {\n",
       "        vertical-align: middle;\n",
       "    }\n",
       "\n",
       "    .dataframe tbody tr th {\n",
       "        vertical-align: top;\n",
       "    }\n",
       "\n",
       "    .dataframe thead th {\n",
       "        text-align: right;\n",
       "    }\n",
       "</style>\n",
       "<table border=\"1\" class=\"dataframe\">\n",
       "  <thead>\n",
       "    <tr style=\"text-align: right;\">\n",
       "      <th></th>\n",
       "      <th>name</th>\n",
       "      <th>location</th>\n",
       "      <th>verified</th>\n",
       "      <th>text</th>\n",
       "      <th>created_at</th>\n",
       "      <th>source</th>\n",
       "      <th>retweets</th>\n",
       "      <th>favorites</th>\n",
       "      <th>Ticker</th>\n",
       "    </tr>\n",
       "  </thead>\n",
       "  <tbody>\n",
       "    <tr>\n",
       "      <th>0</th>\n",
       "      <td>iamrgk_</td>\n",
       "      <td>Atlanta, GA</td>\n",
       "      <td>False</td>\n",
       "      <td>@midwestmoviesus Money coming out of $TSLA and...</td>\n",
       "      <td>2021-11-16 13:58:01+00:00</td>\n",
       "      <td>Twitter for iPhone</td>\n",
       "      <td>0</td>\n",
       "      <td>0</td>\n",
       "      <td>$TSLA</td>\n",
       "    </tr>\n",
       "    <tr>\n",
       "      <th>1</th>\n",
       "      <td>Kyes501</td>\n",
       "      <td></td>\n",
       "      <td>False</td>\n",
       "      <td>For best alerts daily, join us!\\n\\nDiscord:\\n\\...</td>\n",
       "      <td>2021-11-16 13:57:48+00:00</td>\n",
       "      <td>Twitter for Android</td>\n",
       "      <td>0</td>\n",
       "      <td>0</td>\n",
       "      <td>$TSLA</td>\n",
       "    </tr>\n",
       "    <tr>\n",
       "      <th>2</th>\n",
       "      <td>Roger902102</td>\n",
       "      <td></td>\n",
       "      <td>False</td>\n",
       "      <td>@heydave7 Dave - It would be nice to show how ...</td>\n",
       "      <td>2021-11-16 13:57:40+00:00</td>\n",
       "      <td>Twitter for iPhone</td>\n",
       "      <td>0</td>\n",
       "      <td>0</td>\n",
       "      <td>$TSLA</td>\n",
       "    </tr>\n",
       "    <tr>\n",
       "      <th>3</th>\n",
       "      <td>ITesla8</td>\n",
       "      <td></td>\n",
       "      <td>False</td>\n",
       "      <td>Please dips it hard, real hard today! $TSLA</td>\n",
       "      <td>2021-11-16 13:57:28+00:00</td>\n",
       "      <td>Twitter for iPhone</td>\n",
       "      <td>0</td>\n",
       "      <td>0</td>\n",
       "      <td>$TSLA</td>\n",
       "    </tr>\n",
       "    <tr>\n",
       "      <th>4</th>\n",
       "      <td>waterinsidegla1</td>\n",
       "      <td></td>\n",
       "      <td>False</td>\n",
       "      <td>$TSLA  @elonmusk is giving opportunity to othe...</td>\n",
       "      <td>2021-11-16 13:57:24+00:00</td>\n",
       "      <td>Twitter for iPhone</td>\n",
       "      <td>0</td>\n",
       "      <td>0</td>\n",
       "      <td>$TSLA</td>\n",
       "    </tr>\n",
       "  </tbody>\n",
       "</table>\n",
       "</div>"
      ],
      "text/plain": [
       "              name     location  verified  \\\n",
       "0          iamrgk_  Atlanta, GA     False   \n",
       "1          Kyes501                  False   \n",
       "2      Roger902102                  False   \n",
       "3          ITesla8                  False   \n",
       "4  waterinsidegla1                  False   \n",
       "\n",
       "                                                text  \\\n",
       "0  @midwestmoviesus Money coming out of $TSLA and...   \n",
       "1  For best alerts daily, join us!\\n\\nDiscord:\\n\\...   \n",
       "2  @heydave7 Dave - It would be nice to show how ...   \n",
       "3        Please dips it hard, real hard today! $TSLA   \n",
       "4  $TSLA  @elonmusk is giving opportunity to othe...   \n",
       "\n",
       "                 created_at               source  retweets  favorites Ticker  \n",
       "0 2021-11-16 13:58:01+00:00   Twitter for iPhone         0          0  $TSLA  \n",
       "1 2021-11-16 13:57:48+00:00  Twitter for Android         0          0  $TSLA  \n",
       "2 2021-11-16 13:57:40+00:00   Twitter for iPhone         0          0  $TSLA  \n",
       "3 2021-11-16 13:57:28+00:00   Twitter for iPhone         0          0  $TSLA  \n",
       "4 2021-11-16 13:57:24+00:00   Twitter for iPhone         0          0  $TSLA  "
      ]
     },
     "execution_count": 5,
     "metadata": {},
     "output_type": "execute_result"
    }
   ],
   "source": [
    "df.head()"
   ]
  },
  {
   "cell_type": "markdown",
   "metadata": {},
   "source": [
    "### Filtering Institutional Sentiment"
   ]
  },
  {
   "cell_type": "markdown",
   "metadata": {},
   "source": [
    "We do this two ways: Filter out verified users and also through source of post (Web App Automation or TweetDeck), since they indicate whether the account is \"professionaly\" managed. The latter should be more than enough.\n",
    "\n",
    "Still have to do this though"
   ]
  },
  {
   "cell_type": "markdown",
   "metadata": {},
   "source": [
    "### Cleaning Tweets"
   ]
  },
  {
   "cell_type": "markdown",
   "metadata": {},
   "source": [
    "Before going for the actual sentiment analysis, we need to clean all the junk from the data, such as URLs, numbers and IDs"
   ]
  },
  {
   "cell_type": "code",
   "execution_count": 6,
   "metadata": {},
   "outputs": [],
   "source": [
    "import re\n",
    "\n",
    "#dropping duplicates and resetting index\n",
    "df=df.drop_duplicates(['text'])\n",
    "df = df.reset_index(drop=True)\n",
    "\n",
    "def remove_pattern(input_txt, pattern):\n",
    "    r = re.findall(pattern, input_txt)\n",
    "    for i in r:\n",
    "        input_txt = re.sub(i, '', input_txt)        \n",
    "    return input_txt\n",
    "\n",
    "def clean_tweets(tweets):\n",
    "    #remove twitter Return handles (RT @xxx:)\n",
    "    tweets = np.vectorize(remove_pattern)(tweets, \"RT @[\\w]*:\") \n",
    "    \n",
    "    #remove twitter handles (@xxx)\n",
    "    tweets = np.vectorize(remove_pattern)(tweets, \"@[\\w]*\")\n",
    "    \n",
    "    #remove URL links (httpxxx)\n",
    "    tweets = np.vectorize(remove_pattern)(tweets, \"https?://[A-Za-z0-9./]*\")\n",
    "    \n",
    "    #remove special characters, numbers, punctuations (except for #)\n",
    "    tweets = np.core.defchararray.replace(tweets, \"[^a-zA-Z]\", \" \")\n",
    "    \n",
    "    return tweets"
   ]
  },
  {
   "cell_type": "code",
   "execution_count": 7,
   "metadata": {},
   "outputs": [
    {
     "data": {
      "text/plain": [
       "0     Money coming out of $TSLA and flowing into $RIVN\n",
       "1    For best alerts daily, join us!\\n\\nDiscord:\\n\\...\n",
       "2     Dave - It would be nice to show how much tax ...\n",
       "3          Please dips it hard, real hard today! $TSLA\n",
       "4    $TSLA   is giving opportunity to other investo...\n",
       "Name: text, dtype: object"
      ]
     },
     "execution_count": 7,
     "metadata": {},
     "output_type": "execute_result"
    }
   ],
   "source": [
    "df['text'] = clean_tweets(df['text'])\n",
    "\n",
    "df['text'].head()"
   ]
  },
  {
   "cell_type": "markdown",
   "metadata": {},
   "source": [
    "***Reminder to drop duplicates and filter institutional stuff!!!***"
   ]
  },
  {
   "cell_type": "markdown",
   "metadata": {},
   "source": [
    "### Word Cloud"
   ]
  },
  {
   "cell_type": "markdown",
   "metadata": {},
   "source": [
    "We can also plot a nice world cloud to visualize what are the words people talk most about"
   ]
  },
  {
   "cell_type": "code",
   "execution_count": 8,
   "metadata": {},
   "outputs": [
    {
     "data": {
      "image/png": "[encoded data removed]",
      "text/plain": [
       "<Figure size 864x720 with 1 Axes>"
      ]
     },
     "metadata": {
      "needs_background": "light"
     },
     "output_type": "display_data"
    }
   ],
   "source": [
    "from wordcloud import WordCloud, STOPWORDS, ImageColorGenerator\n",
    "\n",
    "def word_cloud(wd_list):\n",
    "    stopwords = set(STOPWORDS)\n",
    "    all_words = ' '.join([text for text in wd_list])\n",
    "    wordcloud = WordCloud(\n",
    "        background_color='white',\n",
    "        stopwords=stopwords,\n",
    "        width=1600,\n",
    "        height=800,\n",
    "        random_state=1,\n",
    "        colormap='jet',\n",
    "        max_words=80,\n",
    "        max_font_size=200).generate(all_words)\n",
    "    plt.figure(figsize=(12, 10))\n",
    "    plt.axis('off')\n",
    "    plt.imshow(wordcloud, interpolation=\"bilinear\");\n",
    "\n",
    "word_cloud(df['text'])"
   ]
  },
  {
   "cell_type": "markdown",
   "metadata": {},
   "source": [
    "### Sentiment Analysis - VADER"
   ]
  },
  {
   "cell_type": "markdown",
   "metadata": {},
   "source": [
    "We start off the analysis with pre-trained models. The first one is VADER, which is specifically attuned for social media data"
   ]
  },
  {
   "cell_type": "code",
   "execution_count": 9,
   "metadata": {},
   "outputs": [],
   "source": [
    "from vaderSentiment.vaderSentiment import SentimentIntensityAnalyzer\n",
    "analyzer = SentimentIntensityAnalyzer()"
   ]
  },
  {
   "cell_type": "code",
   "execution_count": 10,
   "metadata": {},
   "outputs": [
    {
     "name": "stdout",
     "output_type": "stream",
     "text": [
      "{'neg': 0.588, 'neu': 0.412, 'pos': 0.0, 'compound': -0.6468}\n",
      "{'neg': 0.0, 'neu': 0.385, 'pos': 0.615, 'compound': 0.6989}\n"
     ]
    }
   ],
   "source": [
    "print(analyzer.polarity_scores(\"I fucking hate this!\"))\n",
    "print(analyzer.polarity_scores(\"I fucking love this!\"))"
   ]
  },
  {
   "cell_type": "code",
   "execution_count": null,
   "metadata": {},
   "outputs": [
    {
     "ename": "NameError",
     "evalue": "name 'analyzer' is not defined",
     "output_type": "error",
     "traceback": [
      "\u001b[1;31m---------------------------------------------------------------------------\u001b[0m",
      "\u001b[1;31mNameError\u001b[0m                                 Traceback (most recent call last)",
      "\u001b[1;32m~\\AppData\\Local\\Temp/ipykernel_15736/1886978503.py\u001b[0m in \u001b[0;36m<module>\u001b[1;34m\u001b[0m\n\u001b[0;32m      1\u001b[0m \u001b[1;31m#just checking out scores of individual words to see how it works\u001b[0m\u001b[1;33m\u001b[0m\u001b[1;33m\u001b[0m\u001b[1;33m\u001b[0m\u001b[0m\n\u001b[1;32m----> 2\u001b[1;33m \u001b[0mtoken_scores\u001b[0m \u001b[1;33m=\u001b[0m \u001b[0manalyzer\u001b[0m\u001b[1;33m.\u001b[0m\u001b[0mlexicon\u001b[0m\u001b[1;33m\u001b[0m\u001b[1;33m\u001b[0m\u001b[0m\n\u001b[0m\u001b[0;32m      3\u001b[0m \u001b[0mtoken_scores\u001b[0m\u001b[1;33m[\u001b[0m\u001b[1;34m'hate'\u001b[0m\u001b[1;33m]\u001b[0m\u001b[1;33m\u001b[0m\u001b[1;33m\u001b[0m\u001b[0m\n",
      "\u001b[1;31mNameError\u001b[0m: name 'analyzer' is not defined"
     ]
    }
   ],
   "source": [
    "#just checking out scores of individual words to see how it works\n",
    "token_scores = analyzer.lexicon\n",
    "token_scores['love']"
   ]
  },
  {
   "cell_type": "code",
   "execution_count": 12,
   "metadata": {},
   "outputs": [],
   "source": [
    "scores_vader = []\n",
    "\n",
    "# Declare variables for scores\n",
    "compound_list = []\n",
    "positive_list = []\n",
    "negative_list = []\n",
    "neutral_list = []\n",
    "for i in range(df['text'].shape[0]):\n",
    "#print(analyser.polarity_scores(sentiments_pd['text'][i]))\n",
    "    compound = analyzer.polarity_scores(df['text'][i])[\"compound\"]\n",
    "    pos = analyzer.polarity_scores(df['text'][i])[\"pos\"]\n",
    "    neu = analyzer.polarity_scores(df['text'][i])[\"neu\"]\n",
    "    neg = analyzer.polarity_scores(df['text'][i])[\"neg\"]\n",
    "    \n",
    "    scores_vader.append({\"Compound\": compound,\n",
    "                       \"Positive\": pos,\n",
    "                       \"Negative\": neg,\n",
    "                       \"Neutral\": neu\n",
    "                  })"
   ]
  },
  {
   "cell_type": "markdown",
   "metadata": {},
   "source": [
    "We can now join the scores into the dataframe and have much richer data to work with!"
   ]
  },
  {
   "cell_type": "code",
   "execution_count": 13,
   "metadata": {},
   "outputs": [
    {
     "data": {
      "text/html": [
       "<div>\n",
       "<style scoped>\n",
       "    .dataframe tbody tr th:only-of-type {\n",
       "        vertical-align: middle;\n",
       "    }\n",
       "\n",
       "    .dataframe tbody tr th {\n",
       "        vertical-align: top;\n",
       "    }\n",
       "\n",
       "    .dataframe thead th {\n",
       "        text-align: right;\n",
       "    }\n",
       "</style>\n",
       "<table border=\"1\" class=\"dataframe\">\n",
       "  <thead>\n",
       "    <tr style=\"text-align: right;\">\n",
       "      <th></th>\n",
       "      <th>name</th>\n",
       "      <th>location</th>\n",
       "      <th>verified</th>\n",
       "      <th>text</th>\n",
       "      <th>created_at</th>\n",
       "      <th>source</th>\n",
       "      <th>retweets</th>\n",
       "      <th>favorites</th>\n",
       "      <th>Ticker</th>\n",
       "      <th>Compound</th>\n",
       "      <th>Positive</th>\n",
       "      <th>Negative</th>\n",
       "      <th>Neutral</th>\n",
       "    </tr>\n",
       "  </thead>\n",
       "  <tbody>\n",
       "    <tr>\n",
       "      <th>0</th>\n",
       "      <td>iamrgk_</td>\n",
       "      <td>Atlanta, GA</td>\n",
       "      <td>False</td>\n",
       "      <td>Money coming out of $TSLA and flowing into $RIVN</td>\n",
       "      <td>2021-11-16 13:58:01+00:00</td>\n",
       "      <td>Twitter for iPhone</td>\n",
       "      <td>0</td>\n",
       "      <td>0</td>\n",
       "      <td>$TSLA</td>\n",
       "      <td>0.0000</td>\n",
       "      <td>0.000</td>\n",
       "      <td>0.000</td>\n",
       "      <td>1.000</td>\n",
       "    </tr>\n",
       "    <tr>\n",
       "      <th>1</th>\n",
       "      <td>Kyes501</td>\n",
       "      <td></td>\n",
       "      <td>False</td>\n",
       "      <td>For best alerts daily, join us!\\n\\nDiscord:\\n\\...</td>\n",
       "      <td>2021-11-16 13:57:48+00:00</td>\n",
       "      <td>Twitter for Android</td>\n",
       "      <td>0</td>\n",
       "      <td>0</td>\n",
       "      <td>$TSLA</td>\n",
       "      <td>0.6114</td>\n",
       "      <td>0.264</td>\n",
       "      <td>0.106</td>\n",
       "      <td>0.630</td>\n",
       "    </tr>\n",
       "    <tr>\n",
       "      <th>2</th>\n",
       "      <td>Roger902102</td>\n",
       "      <td></td>\n",
       "      <td>False</td>\n",
       "      <td>Dave - It would be nice to show how much tax ...</td>\n",
       "      <td>2021-11-16 13:57:40+00:00</td>\n",
       "      <td>Twitter for iPhone</td>\n",
       "      <td>0</td>\n",
       "      <td>0</td>\n",
       "      <td>$TSLA</td>\n",
       "      <td>0.6597</td>\n",
       "      <td>0.231</td>\n",
       "      <td>0.000</td>\n",
       "      <td>0.769</td>\n",
       "    </tr>\n",
       "    <tr>\n",
       "      <th>3</th>\n",
       "      <td>ITesla8</td>\n",
       "      <td></td>\n",
       "      <td>False</td>\n",
       "      <td>Please dips it hard, real hard today! $TSLA</td>\n",
       "      <td>2021-11-16 13:57:28+00:00</td>\n",
       "      <td>Twitter for iPhone</td>\n",
       "      <td>0</td>\n",
       "      <td>0</td>\n",
       "      <td>$TSLA</td>\n",
       "      <td>0.2003</td>\n",
       "      <td>0.221</td>\n",
       "      <td>0.298</td>\n",
       "      <td>0.481</td>\n",
       "    </tr>\n",
       "    <tr>\n",
       "      <th>4</th>\n",
       "      <td>waterinsidegla1</td>\n",
       "      <td></td>\n",
       "      <td>False</td>\n",
       "      <td>$TSLA   is giving opportunity to other investo...</td>\n",
       "      <td>2021-11-16 13:57:24+00:00</td>\n",
       "      <td>Twitter for iPhone</td>\n",
       "      <td>0</td>\n",
       "      <td>0</td>\n",
       "      <td>$TSLA</td>\n",
       "      <td>0.8225</td>\n",
       "      <td>0.390</td>\n",
       "      <td>0.000</td>\n",
       "      <td>0.610</td>\n",
       "    </tr>\n",
       "  </tbody>\n",
       "</table>\n",
       "</div>"
      ],
      "text/plain": [
       "              name     location  verified  \\\n",
       "0          iamrgk_  Atlanta, GA     False   \n",
       "1          Kyes501                  False   \n",
       "2      Roger902102                  False   \n",
       "3          ITesla8                  False   \n",
       "4  waterinsidegla1                  False   \n",
       "\n",
       "                                                text  \\\n",
       "0   Money coming out of $TSLA and flowing into $RIVN   \n",
       "1  For best alerts daily, join us!\\n\\nDiscord:\\n\\...   \n",
       "2   Dave - It would be nice to show how much tax ...   \n",
       "3        Please dips it hard, real hard today! $TSLA   \n",
       "4  $TSLA   is giving opportunity to other investo...   \n",
       "\n",
       "                 created_at               source  retweets  favorites Ticker  \\\n",
       "0 2021-11-16 13:58:01+00:00   Twitter for iPhone         0          0  $TSLA   \n",
       "1 2021-11-16 13:57:48+00:00  Twitter for Android         0          0  $TSLA   \n",
       "2 2021-11-16 13:57:40+00:00   Twitter for iPhone         0          0  $TSLA   \n",
       "3 2021-11-16 13:57:28+00:00   Twitter for iPhone         0          0  $TSLA   \n",
       "4 2021-11-16 13:57:24+00:00   Twitter for iPhone         0          0  $TSLA   \n",
       "\n",
       "   Compound  Positive  Negative  Neutral  \n",
       "0    0.0000     0.000     0.000    1.000  \n",
       "1    0.6114     0.264     0.106    0.630  \n",
       "2    0.6597     0.231     0.000    0.769  \n",
       "3    0.2003     0.221     0.298    0.481  \n",
       "4    0.8225     0.390     0.000    0.610  "
      ]
     },
     "execution_count": 13,
     "metadata": {},
     "output_type": "execute_result"
    }
   ],
   "source": [
    "sentiments_score_vader = pd.DataFrame.from_dict(scores_vader)\n",
    "df_vader = df.join(sentiments_score_vader)\n",
    "df_vader.head()"
   ]
  },
  {
   "cell_type": "markdown",
   "metadata": {},
   "source": [
    "### Entity Recognition"
   ]
  },
  {
   "cell_type": "markdown",
   "metadata": {},
   "source": [
    "For now, the only entity recognition we are doing is hashtags, where we can look at the positive ones"
   ]
  },
  {
   "cell_type": "code",
   "execution_count": 14,
   "metadata": {},
   "outputs": [
    {
     "data": {
      "text/plain": [
       "['watchlist',\n",
       " 'charts',\n",
       " 'OIL',\n",
       " 'growth',\n",
       " 'millionaire',\n",
       " 'money',\n",
       " 'success',\n",
       " 'tuesdayvibe',\n",
       " 'WDL',\n",
       " 'Gold',\n",
       " 'crypto',\n",
       " 'Bitcoin',\n",
       " 'fintwit',\n",
       " 'Free',\n",
       " 'Money',\n",
       " 'fintwit',\n",
       " 'fintwit',\n",
       " 'Tesla',\n",
       " 'stockmarket',\n",
       " 'stock',\n",
       " 'fintwit',\n",
       " 'fintwit',\n",
       " 'TikTok',\n",
       " 'fintwit',\n",
       " 'Bearish',\n",
       " 'Bullish',\n",
       " 'fintwit',\n",
       " 'fintwit',\n",
       " 'fintwit',\n",
       " 'WSB',\n",
       " 'fintwit',\n",
       " 'Tesla',\n",
       " 'fintwit',\n",
       " 'fintwit',\n",
       " 'options',\n",
       " 'watchlist',\n",
       " 'stocks',\n",
       " 'daytrading',\n",
       " 'NYSE',\n",
       " 'NASDAQ',\n",
       " 'market',\n",
       " 'StockMarket',\n",
       " 'Bubble',\n",
       " 'FAANG',\n",
       " 'WarrenBuffett',\n",
       " 'investing',\n",
       " 'daytrading',\n",
       " 'stocks',\n",
       " 'watchlist',\n",
       " 'Viral',\n",
       " '1',\n",
       " 'Bitcoin',\n",
       " 'WOW',\n",
       " 'Options',\n",
       " 'fintwit',\n",
       " 'Options',\n",
       " 'maxpain',\n",
       " 'fintwit',\n",
       " 'Options',\n",
       " 'AAPL',\n",
       " 'Biden',\n",
       " 'Democrats',\n",
       " 'TAX',\n",
       " 'TaxTheRich',\n",
       " 'WhaleStream',\n",
       " 'WhaleFlow',\n",
       " 'shiba',\n",
       " 'shibainu',\n",
       " 'doge',\n",
       " 'Metaverse',\n",
       " 'money',\n",
       " 'Bitcoin',\n",
       " 'Options',\n",
       " 'IONICBRANDS',\n",
       " 'fintwit',\n",
       " 'fintwit',\n",
       " 'BTC',\n",
       " 'ETH',\n",
       " 'Patent',\n",
       " '3112']"
      ]
     },
     "execution_count": 14,
     "metadata": {},
     "output_type": "execute_result"
    }
   ],
   "source": [
    "HT_positive = []\n",
    "def hashtag_extract(x):\n",
    "    hashtags = []\n",
    "    # Loop over the words in the tweet\n",
    "    for i in x:\n",
    "        ht = re.findall(r\"#(\\w+)\", i)\n",
    "        hashtags.append(ht)\n",
    "    return hashtags\n",
    "\n",
    "# extracting hashtags from  tweets\n",
    "HT_positive = hashtag_extract(df_vader['text'][df_vader['Compound'] > 0.5])\n",
    "# unnesting list\n",
    "HT_positive = sum(HT_positive,[])\n",
    "HT_positive"
   ]
  },
  {
   "cell_type": "code",
   "execution_count": 15,
   "metadata": {},
   "outputs": [
    {
     "data": {
      "text/html": [
       "<div>\n",
       "<style scoped>\n",
       "    .dataframe tbody tr th:only-of-type {\n",
       "        vertical-align: middle;\n",
       "    }\n",
       "\n",
       "    .dataframe tbody tr th {\n",
       "        vertical-align: top;\n",
       "    }\n",
       "\n",
       "    .dataframe thead th {\n",
       "        text-align: right;\n",
       "    }\n",
       "</style>\n",
       "<table border=\"1\" class=\"dataframe\">\n",
       "  <thead>\n",
       "    <tr style=\"text-align: right;\">\n",
       "      <th></th>\n",
       "      <th>Compound</th>\n",
       "    </tr>\n",
       "    <tr>\n",
       "      <th>Ticker</th>\n",
       "      <th></th>\n",
       "    </tr>\n",
       "  </thead>\n",
       "  <tbody>\n",
       "    <tr>\n",
       "      <th>$AAPL</th>\n",
       "      <td>0.171077</td>\n",
       "    </tr>\n",
       "    <tr>\n",
       "      <th>$DOVA</th>\n",
       "      <td>-0.325736</td>\n",
       "    </tr>\n",
       "    <tr>\n",
       "      <th>$TSLA</th>\n",
       "      <td>0.139451</td>\n",
       "    </tr>\n",
       "  </tbody>\n",
       "</table>\n",
       "</div>"
      ],
      "text/plain": [
       "        Compound\n",
       "Ticker          \n",
       "$AAPL   0.171077\n",
       "$DOVA  -0.325736\n",
       "$TSLA   0.139451"
      ]
     },
     "execution_count": 15,
     "metadata": {},
     "output_type": "execute_result"
    }
   ],
   "source": [
    "#Collect the compound values for each news source\n",
    "#this shows us mean sentiment for each company\n",
    "score_table = df_vader.pivot_table(index='Ticker',  values=\"Compound\", aggfunc = np.mean)\n",
    "score_table"
   ]
  },
  {
   "cell_type": "code",
   "execution_count": 16,
   "metadata": {},
   "outputs": [
    {
     "data": {
      "text/plain": [
       "<matplotlib.axes._subplots.AxesSubplot at 0x1d7a0d9ae80>"
      ]
     },
     "execution_count": 16,
     "metadata": {},
     "output_type": "execute_result"
    },
    {
     "data": {
      "image/png": "[encoded data removed]",
      "text/plain": [
       "<Figure size 432x288 with 1 Axes>"
      ]
     },
     "metadata": {
      "needs_background": "light"
     },
     "output_type": "display_data"
    }
   ],
   "source": [
    "#plotting \n",
    "score_table.plot(kind='bar')"
   ]
  },
  {
   "cell_type": "markdown",
   "metadata": {},
   "source": [
    "This score that we see is not weighted -- NOT GOOD. We have to consider retweets / favorites there"
   ]
  },
  {
   "cell_type": "markdown",
   "metadata": {},
   "source": [
    "### Sentiment Analysis - TextBlob"
   ]
  },
  {
   "cell_type": "markdown",
   "metadata": {},
   "source": [
    "TextBlob performs better with formal language, might not perform as well "
   ]
  },
  {
   "cell_type": "code",
   "execution_count": 17,
   "metadata": {},
   "outputs": [],
   "source": [
    "from textblob import TextBlob"
   ]
  },
  {
   "cell_type": "code",
   "execution_count": 18,
   "metadata": {},
   "outputs": [
    {
     "data": {
      "text/plain": [
       "Sentiment(polarity=-0.15555555555555559, subjectivity=0.2888888888888889)"
      ]
     },
     "execution_count": 18,
     "metadata": {},
     "output_type": "execute_result"
    }
   ],
   "source": [
    "test = TextBlob('TSLA stock is going down')\n",
    "test.sentiment"
   ]
  },
  {
   "cell_type": "code",
   "execution_count": 19,
   "metadata": {},
   "outputs": [],
   "source": [
    "scores_blob = []\n",
    "\n",
    "# Declare variables for scores\n",
    "polarity = []\n",
    "subjectivity = []\n",
    "\n",
    "for i in range(df['text'].shape[0]):\n",
    "    polarity = TextBlob(df['text'][i]).sentiment[0]\n",
    "    subjectivity = TextBlob(df['text'][i]).sentiment[1]\n",
    "    \n",
    "    scores_blob.append({\"Polarity\": polarity,\n",
    "                       \"Subjectivity\": subjectivity\n",
    "                  })\n",
    "    "
   ]
  },
  {
   "cell_type": "code",
   "execution_count": 20,
   "metadata": {},
   "outputs": [
    {
     "data": {
      "text/html": [
       "<div>\n",
       "<style scoped>\n",
       "    .dataframe tbody tr th:only-of-type {\n",
       "        vertical-align: middle;\n",
       "    }\n",
       "\n",
       "    .dataframe tbody tr th {\n",
       "        vertical-align: top;\n",
       "    }\n",
       "\n",
       "    .dataframe thead th {\n",
       "        text-align: right;\n",
       "    }\n",
       "</style>\n",
       "<table border=\"1\" class=\"dataframe\">\n",
       "  <thead>\n",
       "    <tr style=\"text-align: right;\">\n",
       "      <th></th>\n",
       "      <th>name</th>\n",
       "      <th>location</th>\n",
       "      <th>verified</th>\n",
       "      <th>text</th>\n",
       "      <th>created_at</th>\n",
       "      <th>source</th>\n",
       "      <th>retweets</th>\n",
       "      <th>favorites</th>\n",
       "      <th>Ticker</th>\n",
       "      <th>Polarity</th>\n",
       "      <th>Subjectivity</th>\n",
       "    </tr>\n",
       "  </thead>\n",
       "  <tbody>\n",
       "    <tr>\n",
       "      <th>0</th>\n",
       "      <td>iamrgk_</td>\n",
       "      <td>Atlanta, GA</td>\n",
       "      <td>False</td>\n",
       "      <td>Money coming out of $TSLA and flowing into $RIVN</td>\n",
       "      <td>2021-11-16 13:58:01+00:00</td>\n",
       "      <td>Twitter for iPhone</td>\n",
       "      <td>0</td>\n",
       "      <td>0</td>\n",
       "      <td>$TSLA</td>\n",
       "      <td>0.000000</td>\n",
       "      <td>0.000000</td>\n",
       "    </tr>\n",
       "    <tr>\n",
       "      <th>1</th>\n",
       "      <td>Kyes501</td>\n",
       "      <td></td>\n",
       "      <td>False</td>\n",
       "      <td>For best alerts daily, join us!\\n\\nDiscord:\\n\\...</td>\n",
       "      <td>2021-11-16 13:57:48+00:00</td>\n",
       "      <td>Twitter for Android</td>\n",
       "      <td>0</td>\n",
       "      <td>0</td>\n",
       "      <td>$TSLA</td>\n",
       "      <td>0.500000</td>\n",
       "      <td>0.150000</td>\n",
       "    </tr>\n",
       "    <tr>\n",
       "      <th>2</th>\n",
       "      <td>Roger902102</td>\n",
       "      <td></td>\n",
       "      <td>False</td>\n",
       "      <td>Dave - It would be nice to show how much tax ...</td>\n",
       "      <td>2021-11-16 13:57:40+00:00</td>\n",
       "      <td>Twitter for iPhone</td>\n",
       "      <td>0</td>\n",
       "      <td>0</td>\n",
       "      <td>$TSLA</td>\n",
       "      <td>0.400000</td>\n",
       "      <td>0.600000</td>\n",
       "    </tr>\n",
       "    <tr>\n",
       "      <th>3</th>\n",
       "      <td>ITesla8</td>\n",
       "      <td></td>\n",
       "      <td>False</td>\n",
       "      <td>Please dips it hard, real hard today! $TSLA</td>\n",
       "      <td>2021-11-16 13:57:28+00:00</td>\n",
       "      <td>Twitter for iPhone</td>\n",
       "      <td>0</td>\n",
       "      <td>0</td>\n",
       "      <td>$TSLA</td>\n",
       "      <td>-0.419271</td>\n",
       "      <td>0.677083</td>\n",
       "    </tr>\n",
       "    <tr>\n",
       "      <th>4</th>\n",
       "      <td>waterinsidegla1</td>\n",
       "      <td></td>\n",
       "      <td>False</td>\n",
       "      <td>$TSLA   is giving opportunity to other investo...</td>\n",
       "      <td>2021-11-16 13:57:24+00:00</td>\n",
       "      <td>Twitter for iPhone</td>\n",
       "      <td>0</td>\n",
       "      <td>0</td>\n",
       "      <td>$TSLA</td>\n",
       "      <td>-0.125000</td>\n",
       "      <td>0.375000</td>\n",
       "    </tr>\n",
       "  </tbody>\n",
       "</table>\n",
       "</div>"
      ],
      "text/plain": [
       "              name     location  verified  \\\n",
       "0          iamrgk_  Atlanta, GA     False   \n",
       "1          Kyes501                  False   \n",
       "2      Roger902102                  False   \n",
       "3          ITesla8                  False   \n",
       "4  waterinsidegla1                  False   \n",
       "\n",
       "                                                text  \\\n",
       "0   Money coming out of $TSLA and flowing into $RIVN   \n",
       "1  For best alerts daily, join us!\\n\\nDiscord:\\n\\...   \n",
       "2   Dave - It would be nice to show how much tax ...   \n",
       "3        Please dips it hard, real hard today! $TSLA   \n",
       "4  $TSLA   is giving opportunity to other investo...   \n",
       "\n",
       "                 created_at               source  retweets  favorites Ticker  \\\n",
       "0 2021-11-16 13:58:01+00:00   Twitter for iPhone         0          0  $TSLA   \n",
       "1 2021-11-16 13:57:48+00:00  Twitter for Android         0          0  $TSLA   \n",
       "2 2021-11-16 13:57:40+00:00   Twitter for iPhone         0          0  $TSLA   \n",
       "3 2021-11-16 13:57:28+00:00   Twitter for iPhone         0          0  $TSLA   \n",
       "4 2021-11-16 13:57:24+00:00   Twitter for iPhone         0          0  $TSLA   \n",
       "\n",
       "   Polarity  Subjectivity  \n",
       "0  0.000000      0.000000  \n",
       "1  0.500000      0.150000  \n",
       "2  0.400000      0.600000  \n",
       "3 -0.419271      0.677083  \n",
       "4 -0.125000      0.375000  "
      ]
     },
     "execution_count": 20,
     "metadata": {},
     "output_type": "execute_result"
    }
   ],
   "source": [
    "sentiments_score_blob = pd.DataFrame.from_dict(scores_blob)\n",
    "df_blob = df.join(sentiments_score_blob)\n",
    "df_blob.head()"
   ]
  },
  {
   "cell_type": "code",
   "execution_count": 21,
   "metadata": {},
   "outputs": [
    {
     "data": {
      "text/plain": [
       "['douchecoin',\n",
       " 'IonicBrands',\n",
       " 'CSE',\n",
       " 'OTC',\n",
       " 'CBD',\n",
       " 'ETH',\n",
       " 'BTC',\n",
       " 'stockmarkets',\n",
       " 'StocksToBuy',\n",
       " 'stocks',\n",
       " 'stockmarkets',\n",
       " 'StocksToBuy',\n",
       " 'stocks',\n",
       " 'FTD',\n",
       " 'watchlist',\n",
       " 'charts',\n",
       " 'OIL',\n",
       " 'PressRelease',\n",
       " 'OTC',\n",
       " 'FOMO',\n",
       " 'growth',\n",
       " 'millionaire',\n",
       " 'money',\n",
       " 'success',\n",
       " 'tuesdayvibe',\n",
       " 'WDL',\n",
       " 'fintwit',\n",
       " 'GCG',\n",
       " 'Clon',\n",
       " 'Stocks',\n",
       " 'socialmedia',\n",
       " 'wallstreetbets',\n",
       " 'Hertz',\n",
       " 'WSB',\n",
       " 'Reddit',\n",
       " 'Stonks',\n",
       " 'Moass',\n",
       " 'fintwit',\n",
       " 'ElonMusk',\n",
       " 'fintwit',\n",
       " 'fintwit',\n",
       " 'fintwit',\n",
       " '1',\n",
       " '2',\n",
       " '3',\n",
       " '4',\n",
       " '5',\n",
       " '6',\n",
       " '7',\n",
       " 'Stocks',\n",
       " 'Rivian',\n",
       " 'TSLA',\n",
       " 'fintwit',\n",
       " 'fintwit',\n",
       " 'TikTok',\n",
       " 'fintwit',\n",
       " 'Tesla',\n",
       " 'redditarmy',\n",
       " 'stocks',\n",
       " 'redditarmy',\n",
       " 'stocks',\n",
       " 'fintwit',\n",
       " 'fintwit',\n",
       " 'speculating',\n",
       " 'fintwit',\n",
       " 'ARKInvest',\n",
       " 'Elon',\n",
       " 'Tesla',\n",
       " 'fintwit',\n",
       " 'TSLA',\n",
       " 'Rivian',\n",
       " 'TeslaChina',\n",
       " 'Tesla',\n",
       " 'WSB',\n",
       " 'redditarmy',\n",
       " 'stocks',\n",
       " 'fintwit',\n",
       " 'fintwit',\n",
       " 'WSB',\n",
       " 'fintwit',\n",
       " 'options',\n",
       " 'watchlist',\n",
       " 'FTD',\n",
       " 'Apple',\n",
       " 'economy',\n",
       " 'trading',\n",
       " 'investing',\n",
       " 'InvestorPicks',\n",
       " 'elliottwave',\n",
       " 'trading',\n",
       " 'apple',\n",
       " 'Gold',\n",
       " 'Gold',\n",
       " 'investing',\n",
       " 'daytrading',\n",
       " 'stocks',\n",
       " 'watchlist',\n",
       " 'Viral',\n",
       " 'NIO',\n",
       " 'Microsoft',\n",
       " 'Amazon',\n",
       " 'Apple',\n",
       " 'Tesla',\n",
       " 'NIO',\n",
       " 'Microsoft',\n",
       " 'Amazon',\n",
       " 'Apple',\n",
       " 'Tesla',\n",
       " '1',\n",
       " 'Bitcoin',\n",
       " 'Cannabis',\n",
       " 'Gold',\n",
       " 'Silver',\n",
       " 'Inflation',\n",
       " 'Data',\n",
       " 'wallstreetbets',\n",
       " 'reddit',\n",
       " 'Cannabis',\n",
       " 'CBD',\n",
       " 'MedicalMarijuana',\n",
       " 'options',\n",
       " 'stockmarket',\n",
       " 'evs',\n",
       " 'FTX',\n",
       " 'PERP',\n",
       " 'Options',\n",
       " 'FTX',\n",
       " 'PERP',\n",
       " 'fintwit',\n",
       " 'Options',\n",
       " 'maxpain',\n",
       " 'fintwit',\n",
       " 'Options',\n",
       " 'WallStreet',\n",
       " 'NASDAQ',\n",
       " 'NASDAQ100',\n",
       " 'Biden',\n",
       " 'Democrats',\n",
       " 'TAX',\n",
       " 'TaxTheRich',\n",
       " 'WhaleStream',\n",
       " 'WhaleFlow',\n",
       " 'moneyflow',\n",
       " 'sp500',\n",
       " 'moneyflow',\n",
       " 'nasdaq',\n",
       " 'shiba',\n",
       " 'shibainu',\n",
       " 'doge',\n",
       " 'Metaverse',\n",
       " 'money',\n",
       " '1',\n",
       " '2',\n",
       " '3',\n",
       " '4',\n",
       " '5',\n",
       " '6',\n",
       " 'Options',\n",
       " 'fintwit',\n",
       " 'OTCQB',\n",
       " 'bitcoin',\n",
       " 'fintwit',\n",
       " 'BTC',\n",
       " 'ETH',\n",
       " 'WallStreetBets',\n",
       " 'WSB',\n",
       " 'WallStreet',\n",
       " '3112']"
      ]
     },
     "execution_count": 21,
     "metadata": {},
     "output_type": "execute_result"
    }
   ],
   "source": [
    "HT_positive = []\n",
    "\n",
    "HT_positive = hashtag_extract(df_blob['text'][df_blob['Polarity'] > 0.2])\n",
    "# unnesting list\n",
    "HT_positive = sum(HT_positive,[])\n",
    "HT_positive"
   ]
  },
  {
   "cell_type": "code",
   "execution_count": 22,
   "metadata": {},
   "outputs": [
    {
     "data": {
      "text/html": [
       "<div>\n",
       "<style scoped>\n",
       "    .dataframe tbody tr th:only-of-type {\n",
       "        vertical-align: middle;\n",
       "    }\n",
       "\n",
       "    .dataframe tbody tr th {\n",
       "        vertical-align: top;\n",
       "    }\n",
       "\n",
       "    .dataframe thead th {\n",
       "        text-align: right;\n",
       "    }\n",
       "</style>\n",
       "<table border=\"1\" class=\"dataframe\">\n",
       "  <thead>\n",
       "    <tr style=\"text-align: right;\">\n",
       "      <th></th>\n",
       "      <th>Polarity</th>\n",
       "    </tr>\n",
       "    <tr>\n",
       "      <th>Ticker</th>\n",
       "      <th></th>\n",
       "    </tr>\n",
       "  </thead>\n",
       "  <tbody>\n",
       "    <tr>\n",
       "      <th>$AAPL</th>\n",
       "      <td>0.120011</td>\n",
       "    </tr>\n",
       "    <tr>\n",
       "      <th>$DOVA</th>\n",
       "      <td>0.007748</td>\n",
       "    </tr>\n",
       "    <tr>\n",
       "      <th>$TSLA</th>\n",
       "      <td>0.104487</td>\n",
       "    </tr>\n",
       "  </tbody>\n",
       "</table>\n",
       "</div>"
      ],
      "text/plain": [
       "        Polarity\n",
       "Ticker          \n",
       "$AAPL   0.120011\n",
       "$DOVA   0.007748\n",
       "$TSLA   0.104487"
      ]
     },
     "execution_count": 22,
     "metadata": {},
     "output_type": "execute_result"
    }
   ],
   "source": [
    "#Collect the compound values for each news source\n",
    "score_table = df_blob.pivot_table(index='Ticker',  values=\"Polarity\", aggfunc = np.mean)\n",
    "score_table"
   ]
  },
  {
   "cell_type": "markdown",
   "metadata": {},
   "source": [
    "Definitely some difference going on here. But at the core it's still kinda of the same sentiment. Positive for Apple and Tesla (with Apple at the forefront), but Dova instead of negative turns into neutral, which is not nice\n",
    "\n",
    "Might have to check Vader's other two scores since just compound is not enough to answer.\n",
    "\n",
    "Possible Problem ahead: Figuring out how to quantify uncertainity... Might just add an uncertain column into the dataframe, or make a weighted single score based on that.\n",
    "\n",
    "\n",
    "Lastly there's something funky going on with text input here. I might have to take out all the emojis because I think they are throwing of TextBlob"
   ]
  },
  {
   "cell_type": "markdown",
   "metadata": {},
   "source": [
    "### Sentiment Analysis - SentiWordNet"
   ]
  },
  {
   "cell_type": "markdown",
   "metadata": {},
   "source": [
    "For this one we actually need the lemma of each word, so there's some extra cleaning here to do.\n",
    "\n",
    "This is probably not going to work well since Tweets are filled with typos and non-dictionary words which Sentiwordnet often times does not recognize. To"
   ]
  },
  {
   "cell_type": "code",
   "execution_count": 23,
   "metadata": {},
   "outputs": [],
   "source": [
    "# Define a function to clean the text\n",
    "def clean(text):\n",
    "# Removes all special characters and numericals leaving the alphabets\n",
    "    text = re.sub('[^A-Za-z]+', ' ', text)\n",
    "    return text\n",
    "\n",
    "\n",
    "#duplicates the dataframe\n",
    "df_swn = df\n",
    "\n",
    "# Cleaning the text in the review column\n",
    "df_swn['text'] = df_swn['text'].apply(clean)"
   ]
  },
  {
   "cell_type": "code",
   "execution_count": 24,
   "metadata": {},
   "outputs": [
    {
     "data": {
      "text/html": [
       "<div>\n",
       "<style scoped>\n",
       "    .dataframe tbody tr th:only-of-type {\n",
       "        vertical-align: middle;\n",
       "    }\n",
       "\n",
       "    .dataframe tbody tr th {\n",
       "        vertical-align: top;\n",
       "    }\n",
       "\n",
       "    .dataframe thead th {\n",
       "        text-align: right;\n",
       "    }\n",
       "</style>\n",
       "<table border=\"1\" class=\"dataframe\">\n",
       "  <thead>\n",
       "    <tr style=\"text-align: right;\">\n",
       "      <th></th>\n",
       "      <th>name</th>\n",
       "      <th>location</th>\n",
       "      <th>verified</th>\n",
       "      <th>text</th>\n",
       "      <th>created_at</th>\n",
       "      <th>source</th>\n",
       "      <th>retweets</th>\n",
       "      <th>favorites</th>\n",
       "      <th>Ticker</th>\n",
       "      <th>POS tagged</th>\n",
       "    </tr>\n",
       "  </thead>\n",
       "  <tbody>\n",
       "    <tr>\n",
       "      <th>0</th>\n",
       "      <td>iamrgk_</td>\n",
       "      <td>Atlanta, GA</td>\n",
       "      <td>False</td>\n",
       "      <td>Money coming out of TSLA and flowing into RIVN</td>\n",
       "      <td>2021-11-16 13:58:01+00:00</td>\n",
       "      <td>Twitter for iPhone</td>\n",
       "      <td>0</td>\n",
       "      <td>0</td>\n",
       "      <td>$TSLA</td>\n",
       "      <td>[(Money, n), (coming, v), (TSLA, n), (flowing,...</td>\n",
       "    </tr>\n",
       "    <tr>\n",
       "      <th>1</th>\n",
       "      <td>Kyes501</td>\n",
       "      <td></td>\n",
       "      <td>False</td>\n",
       "      <td>For best alerts daily join us Discord DSA KODK...</td>\n",
       "      <td>2021-11-16 13:57:48+00:00</td>\n",
       "      <td>Twitter for Android</td>\n",
       "      <td>0</td>\n",
       "      <td>0</td>\n",
       "      <td>$TSLA</td>\n",
       "      <td>[(best, a), (alerts, n), (daily, r), (join, v)...</td>\n",
       "    </tr>\n",
       "    <tr>\n",
       "      <th>2</th>\n",
       "      <td>Roger902102</td>\n",
       "      <td></td>\n",
       "      <td>False</td>\n",
       "      <td>Dave It would be nice to show how much tax ts...</td>\n",
       "      <td>2021-11-16 13:57:40+00:00</td>\n",
       "      <td>Twitter for iPhone</td>\n",
       "      <td>0</td>\n",
       "      <td>0</td>\n",
       "      <td>$TSLA</td>\n",
       "      <td>[(Dave, v), (would, None), (nice, a), (show, v...</td>\n",
       "    </tr>\n",
       "    <tr>\n",
       "      <th>3</th>\n",
       "      <td>ITesla8</td>\n",
       "      <td></td>\n",
       "      <td>False</td>\n",
       "      <td>Please dips it hard real hard today TSLA</td>\n",
       "      <td>2021-11-16 13:57:28+00:00</td>\n",
       "      <td>Twitter for iPhone</td>\n",
       "      <td>0</td>\n",
       "      <td>0</td>\n",
       "      <td>$TSLA</td>\n",
       "      <td>[(Please, n), (dips, v), (hard, a), (real, a),...</td>\n",
       "    </tr>\n",
       "    <tr>\n",
       "      <th>4</th>\n",
       "      <td>waterinsidegla1</td>\n",
       "      <td></td>\n",
       "      <td>False</td>\n",
       "      <td>TSLA is giving opportunity to other investors...</td>\n",
       "      <td>2021-11-16 13:57:24+00:00</td>\n",
       "      <td>Twitter for iPhone</td>\n",
       "      <td>0</td>\n",
       "      <td>0</td>\n",
       "      <td>$TSLA</td>\n",
       "      <td>[(TSLA, n), (giving, v), (opportunity, n), (in...</td>\n",
       "    </tr>\n",
       "  </tbody>\n",
       "</table>\n",
       "</div>"
      ],
      "text/plain": [
       "              name     location  verified  \\\n",
       "0          iamrgk_  Atlanta, GA     False   \n",
       "1          Kyes501                  False   \n",
       "2      Roger902102                  False   \n",
       "3          ITesla8                  False   \n",
       "4  waterinsidegla1                  False   \n",
       "\n",
       "                                                text  \\\n",
       "0     Money coming out of TSLA and flowing into RIVN   \n",
       "1  For best alerts daily join us Discord DSA KODK...   \n",
       "2   Dave It would be nice to show how much tax ts...   \n",
       "3           Please dips it hard real hard today TSLA   \n",
       "4   TSLA is giving opportunity to other investors...   \n",
       "\n",
       "                 created_at               source  retweets  favorites Ticker  \\\n",
       "0 2021-11-16 13:58:01+00:00   Twitter for iPhone         0          0  $TSLA   \n",
       "1 2021-11-16 13:57:48+00:00  Twitter for Android         0          0  $TSLA   \n",
       "2 2021-11-16 13:57:40+00:00   Twitter for iPhone         0          0  $TSLA   \n",
       "3 2021-11-16 13:57:28+00:00   Twitter for iPhone         0          0  $TSLA   \n",
       "4 2021-11-16 13:57:24+00:00   Twitter for iPhone         0          0  $TSLA   \n",
       "\n",
       "                                          POS tagged  \n",
       "0  [(Money, n), (coming, v), (TSLA, n), (flowing,...  \n",
       "1  [(best, a), (alerts, n), (daily, r), (join, v)...  \n",
       "2  [(Dave, v), (would, None), (nice, a), (show, v...  \n",
       "3  [(Please, n), (dips, v), (hard, a), (real, a),...  \n",
       "4  [(TSLA, n), (giving, v), (opportunity, n), (in...  "
      ]
     },
     "execution_count": 24,
     "metadata": {},
     "output_type": "execute_result"
    }
   ],
   "source": [
    "import nltk\n",
    "#nltk.download('punkt')\n",
    "from nltk.tokenize import word_tokenize\n",
    "from nltk import pos_tag\n",
    "#nltk.download('stopwords')\n",
    "from nltk.corpus import stopwords\n",
    "#nltk.download('wordnet')\n",
    "from nltk.corpus import wordnet\n",
    "#nltk.download('averaged_perceptron_tagger')\n",
    "\n",
    "# POS tagger dictionary\n",
    "pos_dict = {'J':wordnet.ADJ, 'V':wordnet.VERB, 'N':wordnet.NOUN, 'R':wordnet.ADV}\n",
    "def token_stop_pos(text):\n",
    "    tags = pos_tag(word_tokenize(text))\n",
    "    newlist = []\n",
    "    for word, tag in tags:\n",
    "        if word.lower() not in set(stopwords.words('english')):\n",
    "            newlist.append(tuple([word, pos_dict.get(tag[0])]))\n",
    "    return newlist\n",
    "\n",
    "\n",
    "\n",
    "df_swn['POS tagged'] = df_swn['text'].apply(token_stop_pos)\n",
    "df_swn.head()"
   ]
  },
  {
   "cell_type": "markdown",
   "metadata": {},
   "source": [
    "A lot of stuff going on here.\n",
    "\n",
    "1) Tokenization: breaks text into small pieces (tokens)\n",
    "\n",
    "2) POS Tagging: converting each token into a tuple\n",
    "\n",
    "3) Remove stopwords: they are just noise with no information, unless we tokenized sentences (which I believe it's something people do, but I'm not doing it now)\n",
    "\n",
    "We are doing all of this extra cleaning because we wanted emojis and other signs to be considered, but that doesn't work with SentiWordNet\n",
    "\n",
    "For reference, I adapted some code from here\n",
    "https://www.analyticsvidhya.com/blog/2021/06/rule-based-sentiment-analysis-in-python/"
   ]
  },
  {
   "cell_type": "code",
   "execution_count": 25,
   "metadata": {},
   "outputs": [],
   "source": [
    "from nltk.stem import WordNetLemmatizer\n",
    "wordnet_lemmatizer = WordNetLemmatizer()\n",
    "\n",
    "#takes pos_tag tuples, and gives the Lemma for each word in pos_tag based on the pos of that word. \n",
    "def lemmatize(pos_data):\n",
    "    lemma_rew = \" \"\n",
    "    for word, pos in pos_data:\n",
    "        if not pos:\n",
    "            lemma = word\n",
    "            lemma_rew = lemma_rew + \" \" + lemma\n",
    "        else:\n",
    "            lemma = wordnet_lemmatizer.lemmatize(word, pos=pos)\n",
    "            lemma_rew = lemma_rew + \" \" + lemma\n",
    "    return lemma_rew\n",
    "\n",
    "df_swn['Lemma'] = df_swn['POS tagged'].apply(lemmatize)"
   ]
  },
  {
   "cell_type": "markdown",
   "metadata": {},
   "source": [
    "The last part of cleaning this mess is Lemmatization. To get the accurate Lemma from SentiWord, we need the POS tags, which we can now map them together in a dictionary.\n",
    "\n",
    "Any pos_tag that starts with J is mapped to wordnet.ADJ, any pos_tag that starts with R is mapped to wordnet.ADV, and so on\n",
    "\n",
    "n - NOUN \n",
    "\n",
    "v - VERB\n",
    "\n",
    "a - ADJECTIVE \n",
    "\n",
    "s - ADJECTIVE SATELLITE\n",
    "\n",
    "r - ADVERB "
   ]
  },
  {
   "cell_type": "code",
   "execution_count": 26,
   "metadata": {},
   "outputs": [
    {
     "data": {
      "text/html": [
       "<div>\n",
       "<style scoped>\n",
       "    .dataframe tbody tr th:only-of-type {\n",
       "        vertical-align: middle;\n",
       "    }\n",
       "\n",
       "    .dataframe tbody tr th {\n",
       "        vertical-align: top;\n",
       "    }\n",
       "\n",
       "    .dataframe thead th {\n",
       "        text-align: right;\n",
       "    }\n",
       "</style>\n",
       "<table border=\"1\" class=\"dataframe\">\n",
       "  <thead>\n",
       "    <tr style=\"text-align: right;\">\n",
       "      <th></th>\n",
       "      <th>POS tagged</th>\n",
       "      <th>Lemma</th>\n",
       "    </tr>\n",
       "  </thead>\n",
       "  <tbody>\n",
       "    <tr>\n",
       "      <th>0</th>\n",
       "      <td>[(Money, n), (coming, v), (TSLA, n), (flowing,...</td>\n",
       "      <td>Money come TSLA flow RIVN</td>\n",
       "    </tr>\n",
       "  </tbody>\n",
       "</table>\n",
       "</div>"
      ],
      "text/plain": [
       "                                          POS tagged  \\\n",
       "0  [(Money, n), (coming, v), (TSLA, n), (flowing,...   \n",
       "\n",
       "                         Lemma  \n",
       "0    Money come TSLA flow RIVN  "
      ]
     },
     "execution_count": 26,
     "metadata": {},
     "output_type": "execute_result"
    }
   ],
   "source": [
    "df_swn[['POS tagged', 'Lemma']][0:1] # an example of how this looks like"
   ]
  },
  {
   "cell_type": "markdown",
   "metadata": {},
   "source": [
    "Lemmatization will also be useful in the future when we take the machine learning approach\n",
    "\n",
    "We can finally use SentiWordNet now."
   ]
  },
  {
   "cell_type": "code",
   "execution_count": 27,
   "metadata": {},
   "outputs": [
    {
     "data": {
      "text/html": [
       "<div>\n",
       "<style scoped>\n",
       "    .dataframe tbody tr th:only-of-type {\n",
       "        vertical-align: middle;\n",
       "    }\n",
       "\n",
       "    .dataframe tbody tr th {\n",
       "        vertical-align: top;\n",
       "    }\n",
       "\n",
       "    .dataframe thead th {\n",
       "        text-align: right;\n",
       "    }\n",
       "</style>\n",
       "<table border=\"1\" class=\"dataframe\">\n",
       "  <thead>\n",
       "    <tr style=\"text-align: right;\">\n",
       "      <th></th>\n",
       "      <th>name</th>\n",
       "      <th>location</th>\n",
       "      <th>verified</th>\n",
       "      <th>text</th>\n",
       "      <th>created_at</th>\n",
       "      <th>source</th>\n",
       "      <th>retweets</th>\n",
       "      <th>favorites</th>\n",
       "      <th>Ticker</th>\n",
       "      <th>POS tagged</th>\n",
       "      <th>Lemma</th>\n",
       "      <th>SWN</th>\n",
       "    </tr>\n",
       "  </thead>\n",
       "  <tbody>\n",
       "    <tr>\n",
       "      <th>0</th>\n",
       "      <td>iamrgk_</td>\n",
       "      <td>Atlanta, GA</td>\n",
       "      <td>False</td>\n",
       "      <td>Money coming out of TSLA and flowing into RIVN</td>\n",
       "      <td>2021-11-16 13:58:01+00:00</td>\n",
       "      <td>Twitter for iPhone</td>\n",
       "      <td>0</td>\n",
       "      <td>0</td>\n",
       "      <td>$TSLA</td>\n",
       "      <td>[(Money, n), (coming, v), (TSLA, n), (flowing,...</td>\n",
       "      <td>Money come TSLA flow RIVN</td>\n",
       "      <td>0.000</td>\n",
       "    </tr>\n",
       "    <tr>\n",
       "      <th>1</th>\n",
       "      <td>Kyes501</td>\n",
       "      <td></td>\n",
       "      <td>False</td>\n",
       "      <td>For best alerts daily join us Discord DSA KODK...</td>\n",
       "      <td>2021-11-16 13:57:48+00:00</td>\n",
       "      <td>Twitter for Android</td>\n",
       "      <td>0</td>\n",
       "      <td>0</td>\n",
       "      <td>$TSLA</td>\n",
       "      <td>[(best, a), (alerts, n), (daily, r), (join, v)...</td>\n",
       "      <td>best alert daily join us Discord DSA KODK DO...</td>\n",
       "      <td>0.000</td>\n",
       "    </tr>\n",
       "    <tr>\n",
       "      <th>2</th>\n",
       "      <td>Roger902102</td>\n",
       "      <td></td>\n",
       "      <td>False</td>\n",
       "      <td>Dave It would be nice to show how much tax ts...</td>\n",
       "      <td>2021-11-16 13:57:40+00:00</td>\n",
       "      <td>Twitter for iPhone</td>\n",
       "      <td>0</td>\n",
       "      <td>0</td>\n",
       "      <td>$TSLA</td>\n",
       "      <td>[(Dave, v), (would, None), (nice, a), (show, v...</td>\n",
       "      <td>Dave would nice show much tax tsla growth ge...</td>\n",
       "      <td>1.000</td>\n",
       "    </tr>\n",
       "    <tr>\n",
       "      <th>3</th>\n",
       "      <td>ITesla8</td>\n",
       "      <td></td>\n",
       "      <td>False</td>\n",
       "      <td>Please dips it hard real hard today TSLA</td>\n",
       "      <td>2021-11-16 13:57:28+00:00</td>\n",
       "      <td>Twitter for iPhone</td>\n",
       "      <td>0</td>\n",
       "      <td>0</td>\n",
       "      <td>$TSLA</td>\n",
       "      <td>[(Please, n), (dips, v), (hard, a), (real, a),...</td>\n",
       "      <td>Please dip hard real hard today TSLA</td>\n",
       "      <td>-1.375</td>\n",
       "    </tr>\n",
       "    <tr>\n",
       "      <th>4</th>\n",
       "      <td>waterinsidegla1</td>\n",
       "      <td></td>\n",
       "      <td>False</td>\n",
       "      <td>TSLA is giving opportunity to other investors...</td>\n",
       "      <td>2021-11-16 13:57:24+00:00</td>\n",
       "      <td>Twitter for iPhone</td>\n",
       "      <td>0</td>\n",
       "      <td>0</td>\n",
       "      <td>$TSLA</td>\n",
       "      <td>[(TSLA, n), (giving, v), (opportunity, n), (in...</td>\n",
       "      <td>TSLA give opportunity investor buy tesla sha...</td>\n",
       "      <td>0.875</td>\n",
       "    </tr>\n",
       "  </tbody>\n",
       "</table>\n",
       "</div>"
      ],
      "text/plain": [
       "              name     location  verified  \\\n",
       "0          iamrgk_  Atlanta, GA     False   \n",
       "1          Kyes501                  False   \n",
       "2      Roger902102                  False   \n",
       "3          ITesla8                  False   \n",
       "4  waterinsidegla1                  False   \n",
       "\n",
       "                                                text  \\\n",
       "0     Money coming out of TSLA and flowing into RIVN   \n",
       "1  For best alerts daily join us Discord DSA KODK...   \n",
       "2   Dave It would be nice to show how much tax ts...   \n",
       "3           Please dips it hard real hard today TSLA   \n",
       "4   TSLA is giving opportunity to other investors...   \n",
       "\n",
       "                 created_at               source  retweets  favorites Ticker  \\\n",
       "0 2021-11-16 13:58:01+00:00   Twitter for iPhone         0          0  $TSLA   \n",
       "1 2021-11-16 13:57:48+00:00  Twitter for Android         0          0  $TSLA   \n",
       "2 2021-11-16 13:57:40+00:00   Twitter for iPhone         0          0  $TSLA   \n",
       "3 2021-11-16 13:57:28+00:00   Twitter for iPhone         0          0  $TSLA   \n",
       "4 2021-11-16 13:57:24+00:00   Twitter for iPhone         0          0  $TSLA   \n",
       "\n",
       "                                          POS tagged  \\\n",
       "0  [(Money, n), (coming, v), (TSLA, n), (flowing,...   \n",
       "1  [(best, a), (alerts, n), (daily, r), (join, v)...   \n",
       "2  [(Dave, v), (would, None), (nice, a), (show, v...   \n",
       "3  [(Please, n), (dips, v), (hard, a), (real, a),...   \n",
       "4  [(TSLA, n), (giving, v), (opportunity, n), (in...   \n",
       "\n",
       "                                               Lemma    SWN  \n",
       "0                          Money come TSLA flow RIVN  0.000  \n",
       "1    best alert daily join us Discord DSA KODK DO...  0.000  \n",
       "2    Dave would nice show much tax tsla growth ge...  1.000  \n",
       "3               Please dip hard real hard today TSLA -1.375  \n",
       "4    TSLA give opportunity investor buy tesla sha...  0.875  "
      ]
     },
     "execution_count": 27,
     "metadata": {},
     "output_type": "execute_result"
    }
   ],
   "source": [
    "#nltk.download('sentiwordnet')\n",
    "from nltk.corpus import sentiwordnet as swn\n",
    "\n",
    "def sentiwordnetanalysis(pos_data):\n",
    "    sentiment = 0\n",
    "    tokens_count = 0\n",
    "    for word, pos in pos_data:\n",
    "        if not pos:\n",
    "            continue\n",
    "        lemma = wordnet_lemmatizer.lemmatize(word, pos=pos)\n",
    "        if not lemma:\n",
    "            continue\n",
    "        \n",
    "        synsets = wordnet.synsets(lemma, pos=pos)\n",
    "        if not synsets:\n",
    "            continue\n",
    "\n",
    "        # Take the first sense, the most common\n",
    "        synset = synsets[0]\n",
    "        swn_synset = swn.senti_synset(synset.name())\n",
    "        sentiment += swn_synset.pos_score() - swn_synset.neg_score()\n",
    "        tokens_count += 1\n",
    "        \n",
    "    if not tokens_count:\n",
    "        return 0\n",
    "    return sentiment\n",
    "\n",
    "\n",
    "df_swn['SWN'] = df_swn['POS tagged'].apply(sentiwordnetanalysis)\n",
    "df_swn.head()"
   ]
  },
  {
   "cell_type": "markdown",
   "metadata": {},
   "source": [
    "There is an alternative way to do this in this guide\n",
    "https://towardsdatascience.com/sentiment-analysis-on-swachh-bharat-using-twitter-216369cfa534\n",
    "\n",
    "They do lemmatization differently, and I might adapt later"
   ]
  },
  {
   "cell_type": "markdown",
   "metadata": {},
   "source": [
    "### Sentiment Analysis - Flair"
   ]
  },
  {
   "cell_type": "markdown",
   "metadata": {},
   "source": [
    "Flair’s sentiment classifier is based on a character-level LSTM neural network which takes sequences of letters and words into account when predicting\n",
    "\n",
    "This will be the last of the lexicon-based sentiment analysis models."
   ]
  },
  {
   "cell_type": "code",
   "execution_count": 28,
   "metadata": {},
   "outputs": [],
   "source": [
    "#still have to code this part"
   ]
  },
  {
   "cell_type": "markdown",
   "metadata": {},
   "source": [
    "### Sentiment Analysis - NTUSD-Fin"
   ]
  },
  {
   "cell_type": "markdown",
   "metadata": {},
   "source": [
    "https://www.cs.nccu.edu.tw/~hhhuang/docs/fnp2018.pdf\n",
    "\n",
    "\"a market sentiment dictionary based on more than 330K labeled posts crawled from financial social media. There are 8,331 words, 112 hashtags and 115 emojis in our dictionary\"\n",
    "\n",
    "This is especially nice because some words like Buy / Sell have a neutral (0.0) score on other dictionaries, and this is obviously not the case when we are talking about finance."
   ]
  },
  {
   "cell_type": "code",
   "execution_count": 38,
   "metadata": {},
   "outputs": [
    {
     "data": {
      "text/plain": [
       "<bound method Series.unique of 0             notes\n",
       "1       manipulator\n",
       "2            sucked\n",
       "3            garage\n",
       "4              aids\n",
       "           ...     \n",
       "8326        pharmas\n",
       "8327         barrel\n",
       "8328            cll\n",
       "8329          dough\n",
       "8330        tencent\n",
       "Name: token, Length: 8331, dtype: object>"
      ]
     },
     "execution_count": 38,
     "metadata": {},
     "output_type": "execute_result"
    }
   ],
   "source": [
    "ntusd_word = pd.read_json('NTUSD_Fin_word_v1.0.json')\n",
    "\n",
    "ntusd_word['token'].unique"
   ]
  },
  {
   "cell_type": "markdown",
   "metadata": {},
   "source": [
    "### Comparing Rule-based Models"
   ]
  },
  {
   "cell_type": "markdown",
   "metadata": {},
   "source": [
    "I have to think of some nice visualizations and comparisons to make between the three models...\n",
    "\n",
    "Talk about differences in results and which of them are more reliable, etc\n",
    "\n",
    "Don't forget to include discussion about emoji representation, since it seems to play a large role in classification"
   ]
  },
  {
   "cell_type": "code",
   "execution_count": 29,
   "metadata": {},
   "outputs": [],
   "source": [
    "# I sort of know the visualizations I want to include, but want to focus on getting the machine learning models first\n",
    "# nothing here for now..."
   ]
  },
  {
   "cell_type": "markdown",
   "metadata": {},
   "source": [
    "### Using Pre-trained Data"
   ]
  },
  {
   "cell_type": "markdown",
   "metadata": {},
   "source": [
    "There is nothing that stops us from using our rule based sentiment as training data to predict new tweets, however this wouldn't be productive since we could 1) just apply the rules into new tweets 2) there is no way to assess how accurate the training is anyways.\n",
    "\n",
    "Therefore, an alternative approach that we can use is downloading data containing tweets that were manually pre-labelled and use that as our training set for more sophisticated models.\n",
    "\n",
    "It will be interesting to compare how well they will compare to our previous examples.\n",
    "\n",
    "Datasets:\n",
    "http://help.sentiment140.com/for-students\n",
    "\n",
    "https://nlp.stanford.edu/sentiment/code.html\n",
    "\n",
    "https://nlp.stanford.edu/~socherr/EMNLP2013_RNTN.pdf\n",
    "\n",
    "\n",
    "\n",
    "I'm struggling to get this to work\n",
    "\n",
    "This has actually been difficult to figure out, I need more time to source what datasets to use (this is also a very important aspect of the capstone)\n"
   ]
  },
  {
   "cell_type": "code",
   "execution_count": 39,
   "metadata": {},
   "outputs": [],
   "source": [
    "# I have no idea how to open this, something to do with characters being invalid with utf-8 encoding\n",
    "\n",
    "\n",
    "columns = ['target','ids','date','flag','user','text']\n",
    "stanford_train = pd.read_csv('stanford_treebank.csv',encoding='ANSI', names = columns)\n"
   ]
  },
  {
   "cell_type": "markdown",
   "metadata": {},
   "source": [
    "~~Since I can't get this to work, I'm just going to use some of the tweets we already classified as training data~~\n",
    "\n",
    "Figured it out"
   ]
  },
  {
   "cell_type": "markdown",
   "metadata": {},
   "source": [
    "- “token”: word, hashtag, or emoji\n",
    "- “bull_freq”: frequency in bullish set.\n",
    "- “bear_freq”: frequency in bearish set\n",
    "- “bull_cfidf”: collection frequency in bullish set.\n",
    "- “bear_cfidf”: collection frequency in bearish set.\n",
    "- “chi_squared”: chi squared test result of the token.\n",
    "- “market_sentiment”: calculated by bullish PMI minus bearish PMI.\n",
    "- “word_vec”: 300-dimension word vector."
   ]
  },
  {
   "cell_type": "code",
   "execution_count": 40,
   "metadata": {},
   "outputs": [
    {
     "data": {
      "text/html": [
       "<div>\n",
       "<style scoped>\n",
       "    .dataframe tbody tr th:only-of-type {\n",
       "        vertical-align: middle;\n",
       "    }\n",
       "\n",
       "    .dataframe tbody tr th {\n",
       "        vertical-align: top;\n",
       "    }\n",
       "\n",
       "    .dataframe thead th {\n",
       "        text-align: right;\n",
       "    }\n",
       "</style>\n",
       "<table border=\"1\" class=\"dataframe\">\n",
       "  <thead>\n",
       "    <tr style=\"text-align: right;\">\n",
       "      <th></th>\n",
       "      <th>target</th>\n",
       "      <th>ids</th>\n",
       "      <th>date</th>\n",
       "      <th>flag</th>\n",
       "      <th>user</th>\n",
       "      <th>text</th>\n",
       "    </tr>\n",
       "  </thead>\n",
       "  <tbody>\n",
       "    <tr>\n",
       "      <th>0</th>\n",
       "      <td>0</td>\n",
       "      <td>1467810369</td>\n",
       "      <td>Mon Apr 06 22:19:45 PDT 2009</td>\n",
       "      <td>NO_QUERY</td>\n",
       "      <td>_TheSpecialOne_</td>\n",
       "      <td>@switchfoot http://twitpic.com/2y1zl - Awww, t...</td>\n",
       "    </tr>\n",
       "    <tr>\n",
       "      <th>1</th>\n",
       "      <td>0</td>\n",
       "      <td>1467810672</td>\n",
       "      <td>Mon Apr 06 22:19:49 PDT 2009</td>\n",
       "      <td>NO_QUERY</td>\n",
       "      <td>scotthamilton</td>\n",
       "      <td>is upset that he can't update his Facebook by ...</td>\n",
       "    </tr>\n",
       "    <tr>\n",
       "      <th>2</th>\n",
       "      <td>0</td>\n",
       "      <td>1467810917</td>\n",
       "      <td>Mon Apr 06 22:19:53 PDT 2009</td>\n",
       "      <td>NO_QUERY</td>\n",
       "      <td>mattycus</td>\n",
       "      <td>@Kenichan I dived many times for the ball. Man...</td>\n",
       "    </tr>\n",
       "    <tr>\n",
       "      <th>3</th>\n",
       "      <td>0</td>\n",
       "      <td>1467811184</td>\n",
       "      <td>Mon Apr 06 22:19:57 PDT 2009</td>\n",
       "      <td>NO_QUERY</td>\n",
       "      <td>ElleCTF</td>\n",
       "      <td>my whole body feels itchy and like its on fire</td>\n",
       "    </tr>\n",
       "    <tr>\n",
       "      <th>4</th>\n",
       "      <td>0</td>\n",
       "      <td>1467811193</td>\n",
       "      <td>Mon Apr 06 22:19:57 PDT 2009</td>\n",
       "      <td>NO_QUERY</td>\n",
       "      <td>Karoli</td>\n",
       "      <td>@nationwideclass no, it's not behaving at all....</td>\n",
       "    </tr>\n",
       "  </tbody>\n",
       "</table>\n",
       "</div>"
      ],
      "text/plain": [
       "   target         ids                          date      flag  \\\n",
       "0       0  1467810369  Mon Apr 06 22:19:45 PDT 2009  NO_QUERY   \n",
       "1       0  1467810672  Mon Apr 06 22:19:49 PDT 2009  NO_QUERY   \n",
       "2       0  1467810917  Mon Apr 06 22:19:53 PDT 2009  NO_QUERY   \n",
       "3       0  1467811184  Mon Apr 06 22:19:57 PDT 2009  NO_QUERY   \n",
       "4       0  1467811193  Mon Apr 06 22:19:57 PDT 2009  NO_QUERY   \n",
       "\n",
       "              user                                               text  \n",
       "0  _TheSpecialOne_  @switchfoot http://twitpic.com/2y1zl - Awww, t...  \n",
       "1    scotthamilton  is upset that he can't update his Facebook by ...  \n",
       "2         mattycus  @Kenichan I dived many times for the ball. Man...  \n",
       "3          ElleCTF    my whole body feels itchy and like its on fire   \n",
       "4           Karoli  @nationwideclass no, it's not behaving at all....  "
      ]
     },
     "execution_count": 40,
     "metadata": {},
     "output_type": "execute_result"
    }
   ],
   "source": [
    "stanford_train.head()"
   ]
  },
  {
   "cell_type": "code",
   "execution_count": 41,
   "metadata": {},
   "outputs": [
    {
     "name": "stdout",
     "output_type": "stream",
     "text": [
      "<class 'pandas.core.frame.DataFrame'>\n",
      "RangeIndex: 1600000 entries, 0 to 1599999\n",
      "Data columns (total 6 columns):\n",
      " #   Column  Non-Null Count    Dtype \n",
      "---  ------  --------------    ----- \n",
      " 0   target  1600000 non-null  int64 \n",
      " 1   ids     1600000 non-null  int64 \n",
      " 2   date    1600000 non-null  object\n",
      " 3   flag    1600000 non-null  object\n",
      " 4   user    1600000 non-null  object\n",
      " 5   text    1600000 non-null  object\n",
      "dtypes: int64(2), object(4)\n",
      "memory usage: 73.2+ MB\n"
     ]
    }
   ],
   "source": [
    "stanford_train.info()"
   ]
  },
  {
   "cell_type": "markdown",
   "metadata": {},
   "source": [
    "We can take a look at the target variables. It's well distributed, so we don't have to worry about this part as opposed to the other methods (eg. a lot more negatives than positives)."
   ]
  },
  {
   "cell_type": "code",
   "execution_count": 42,
   "metadata": {},
   "outputs": [
    {
     "data": {
      "image/png": "[encoded data removed]",
      "text/plain": [
       "<Figure size 432x288 with 1 Axes>"
      ]
     },
     "metadata": {
      "needs_background": "light"
     },
     "output_type": "display_data"
    }
   ],
   "source": [
    "# Plotting the distribution for dataset.\n",
    "ax = stanford_train.groupby('target').count().plot(kind='bar', title='Distribution of data',legend=False)\n",
    "ax.set_xticklabels(['Negative','Positive'], rotation=0)\n",
    "# Storing data in lists.\n",
    "text, sentiment = list(stanford_train['text']), list(stanford_train['target'])"
   ]
  },
  {
   "cell_type": "code",
   "execution_count": 35,
   "metadata": {},
   "outputs": [
    {
     "name": "stdout",
     "output_type": "stream",
     "text": [
      "[0 4]\n"
     ]
    }
   ],
   "source": [
    "print(stanford_train['target'].unique())\n",
    "\n",
    "#changes 4 to 1 for simplicity\n",
    "stanford_train['target'] = stanford_train['target'].replace(4,1)\n",
    "\n",
    "stanford_positive = stanford_train[stanford_train['target'] == 1]\n",
    "stanford_negative = stanford_train[stanford_train['target'] == 0]"
   ]
  },
  {
   "cell_type": "code",
   "execution_count": 36,
   "metadata": {},
   "outputs": [],
   "source": [
    "stanford_train = pd.concat([stanford_positive, stanford_negative])"
   ]
  },
  {
   "cell_type": "code",
   "execution_count": 37,
   "metadata": {},
   "outputs": [
    {
     "data": {
      "text/html": [
       "<div>\n",
       "<style scoped>\n",
       "    .dataframe tbody tr th:only-of-type {\n",
       "        vertical-align: middle;\n",
       "    }\n",
       "\n",
       "    .dataframe tbody tr th {\n",
       "        vertical-align: top;\n",
       "    }\n",
       "\n",
       "    .dataframe thead th {\n",
       "        text-align: right;\n",
       "    }\n",
       "</style>\n",
       "<table border=\"1\" class=\"dataframe\">\n",
       "  <thead>\n",
       "    <tr style=\"text-align: right;\">\n",
       "      <th></th>\n",
       "      <th>target</th>\n",
       "      <th>ids</th>\n",
       "      <th>date</th>\n",
       "      <th>flag</th>\n",
       "      <th>user</th>\n",
       "      <th>text</th>\n",
       "    </tr>\n",
       "  </thead>\n",
       "  <tbody>\n",
       "    <tr>\n",
       "      <th>800000</th>\n",
       "      <td>1</td>\n",
       "      <td>1467822272</td>\n",
       "      <td>Mon Apr 06 22:22:45 PDT 2009</td>\n",
       "      <td>NO_QUERY</td>\n",
       "      <td>ersle</td>\n",
       "      <td>I LOVE @Health4UandPets u guys r the best!!</td>\n",
       "    </tr>\n",
       "    <tr>\n",
       "      <th>800001</th>\n",
       "      <td>1</td>\n",
       "      <td>1467822273</td>\n",
       "      <td>Mon Apr 06 22:22:45 PDT 2009</td>\n",
       "      <td>NO_QUERY</td>\n",
       "      <td>becca210</td>\n",
       "      <td>im meeting up with one of my besties tonight! ...</td>\n",
       "    </tr>\n",
       "    <tr>\n",
       "      <th>800002</th>\n",
       "      <td>1</td>\n",
       "      <td>1467822283</td>\n",
       "      <td>Mon Apr 06 22:22:46 PDT 2009</td>\n",
       "      <td>NO_QUERY</td>\n",
       "      <td>Wingman29</td>\n",
       "      <td>@DaRealSunisaKim Thanks for the Twitter add, S...</td>\n",
       "    </tr>\n",
       "    <tr>\n",
       "      <th>800003</th>\n",
       "      <td>1</td>\n",
       "      <td>1467822287</td>\n",
       "      <td>Mon Apr 06 22:22:46 PDT 2009</td>\n",
       "      <td>NO_QUERY</td>\n",
       "      <td>katarinka</td>\n",
       "      <td>Being sick can be really cheap when it hurts t...</td>\n",
       "    </tr>\n",
       "    <tr>\n",
       "      <th>800004</th>\n",
       "      <td>1</td>\n",
       "      <td>1467822293</td>\n",
       "      <td>Mon Apr 06 22:22:46 PDT 2009</td>\n",
       "      <td>NO_QUERY</td>\n",
       "      <td>_EmilyYoung</td>\n",
       "      <td>@LovesBrooklyn2 he has that effect on everyone</td>\n",
       "    </tr>\n",
       "    <tr>\n",
       "      <th>...</th>\n",
       "      <td>...</td>\n",
       "      <td>...</td>\n",
       "      <td>...</td>\n",
       "      <td>...</td>\n",
       "      <td>...</td>\n",
       "      <td>...</td>\n",
       "    </tr>\n",
       "    <tr>\n",
       "      <th>799995</th>\n",
       "      <td>0</td>\n",
       "      <td>2329205009</td>\n",
       "      <td>Thu Jun 25 10:28:28 PDT 2009</td>\n",
       "      <td>NO_QUERY</td>\n",
       "      <td>dandykim</td>\n",
       "      <td>Sick  Spending my day laying in bed listening ...</td>\n",
       "    </tr>\n",
       "    <tr>\n",
       "      <th>799996</th>\n",
       "      <td>0</td>\n",
       "      <td>2329205038</td>\n",
       "      <td>Thu Jun 25 10:28:28 PDT 2009</td>\n",
       "      <td>NO_QUERY</td>\n",
       "      <td>bigenya</td>\n",
       "      <td>Gmail is down?</td>\n",
       "    </tr>\n",
       "    <tr>\n",
       "      <th>799997</th>\n",
       "      <td>0</td>\n",
       "      <td>2329205473</td>\n",
       "      <td>Thu Jun 25 10:28:30 PDT 2009</td>\n",
       "      <td>NO_QUERY</td>\n",
       "      <td>LeeLHoke</td>\n",
       "      <td>rest in peace Farrah! So sad</td>\n",
       "    </tr>\n",
       "    <tr>\n",
       "      <th>799998</th>\n",
       "      <td>0</td>\n",
       "      <td>2329205574</td>\n",
       "      <td>Thu Jun 25 10:28:30 PDT 2009</td>\n",
       "      <td>NO_QUERY</td>\n",
       "      <td>davidlmulder</td>\n",
       "      <td>@Eric_Urbane Sounds like a rival is flagging y...</td>\n",
       "    </tr>\n",
       "    <tr>\n",
       "      <th>799999</th>\n",
       "      <td>0</td>\n",
       "      <td>2329205794</td>\n",
       "      <td>Thu Jun 25 10:28:31 PDT 2009</td>\n",
       "      <td>NO_QUERY</td>\n",
       "      <td>tpchandler</td>\n",
       "      <td>has to resit exams over summer...  wishes he w...</td>\n",
       "    </tr>\n",
       "  </tbody>\n",
       "</table>\n",
       "<p>1600000 rows × 6 columns</p>\n",
       "</div>"
      ],
      "text/plain": [
       "        target         ids                          date      flag  \\\n",
       "800000       1  1467822272  Mon Apr 06 22:22:45 PDT 2009  NO_QUERY   \n",
       "800001       1  1467822273  Mon Apr 06 22:22:45 PDT 2009  NO_QUERY   \n",
       "800002       1  1467822283  Mon Apr 06 22:22:46 PDT 2009  NO_QUERY   \n",
       "800003       1  1467822287  Mon Apr 06 22:22:46 PDT 2009  NO_QUERY   \n",
       "800004       1  1467822293  Mon Apr 06 22:22:46 PDT 2009  NO_QUERY   \n",
       "...        ...         ...                           ...       ...   \n",
       "799995       0  2329205009  Thu Jun 25 10:28:28 PDT 2009  NO_QUERY   \n",
       "799996       0  2329205038  Thu Jun 25 10:28:28 PDT 2009  NO_QUERY   \n",
       "799997       0  2329205473  Thu Jun 25 10:28:30 PDT 2009  NO_QUERY   \n",
       "799998       0  2329205574  Thu Jun 25 10:28:30 PDT 2009  NO_QUERY   \n",
       "799999       0  2329205794  Thu Jun 25 10:28:31 PDT 2009  NO_QUERY   \n",
       "\n",
       "                user                                               text  \n",
       "800000         ersle       I LOVE @Health4UandPets u guys r the best!!   \n",
       "800001      becca210  im meeting up with one of my besties tonight! ...  \n",
       "800002     Wingman29  @DaRealSunisaKim Thanks for the Twitter add, S...  \n",
       "800003     katarinka  Being sick can be really cheap when it hurts t...  \n",
       "800004   _EmilyYoung    @LovesBrooklyn2 he has that effect on everyone   \n",
       "...              ...                                                ...  \n",
       "799995      dandykim  Sick  Spending my day laying in bed listening ...  \n",
       "799996       bigenya                                    Gmail is down?   \n",
       "799997      LeeLHoke                      rest in peace Farrah! So sad   \n",
       "799998  davidlmulder  @Eric_Urbane Sounds like a rival is flagging y...  \n",
       "799999    tpchandler  has to resit exams over summer...  wishes he w...  \n",
       "\n",
       "[1600000 rows x 6 columns]"
      ]
     },
     "execution_count": 37,
     "metadata": {},
     "output_type": "execute_result"
    }
   ],
   "source": [
    "stanford_train"
   ]
  },
  {
   "cell_type": "markdown",
   "metadata": {},
   "source": [
    "### Sentiment Analysis - Naive Bayes"
   ]
  },
  {
   "cell_type": "markdown",
   "metadata": {},
   "source": [
    "This will involved the following:\n",
    "\n",
    "- bulding vocabulary\n",
    "- matching tweets against vocabulary\n",
    "- building a feature vector\n",
    "- training the classifier\n",
    "\n",
    "We start with naive bayes because it's simple enough and can set a baseline for others"
   ]
  },
  {
   "cell_type": "code",
   "execution_count": 54,
   "metadata": {},
   "outputs": [],
   "source": [
    "def buildVocabulary(preprocessedTrainingData):\n",
    "    all_words = []\n",
    "    \n",
    "    for (words, sentiment) in preprocessedTrainingData:\n",
    "        all_words.extend(words)\n",
    "\n",
    "    wordlist = nltk.FreqDist(all_words)\n",
    "    word_features = wordlist.keys()\n",
    "    \n",
    "    return word_features"
   ]
  },
  {
   "cell_type": "code",
   "execution_count": 55,
   "metadata": {},
   "outputs": [],
   "source": [
    "def extract_features(tweet):\n",
    "    tweet_words = set(tweet)\n",
    "    features = {}\n",
    "    for word in word_features:\n",
    "        features['contains(%s)' % word] = (word in tweet_words)\n",
    "    return features "
   ]
  },
  {
   "cell_type": "code",
   "execution_count": null,
   "metadata": {},
   "outputs": [],
   "source": [
    "word_features = buildVocabulary()\n",
    "trainingFeatures = nltk.classify.apply_features()"
   ]
  },
  {
   "cell_type": "code",
   "execution_count": null,
   "metadata": {},
   "outputs": [],
   "source": [
    "NBayesClassifier = nltk.NaiveBayesClassifier.train(trainingFeatures)"
   ]
  },
  {
   "cell_type": "markdown",
   "metadata": {},
   "source": [
    "### Sentiment Analysis - Clustering"
   ]
  },
  {
   "cell_type": "markdown",
   "metadata": {},
   "source": [
    "Inspiration from here\n",
    "\n",
    "https://medium.com/analytics-vidhya/tweet-analytics-using-nlp-f83b9f7f7349"
   ]
  },
  {
   "cell_type": "code",
   "execution_count": 58,
   "metadata": {},
   "outputs": [],
   "source": [
    "def cluster_text(dist_text,processedTweets,dist_threshold_txt):\n",
    "    cluster_id = 1\n",
    "    for i in range(dist_text.shape[0]):\n",
    "        try:\n",
    "            doc_dist_array_txt = dist_text[i,]\n",
    "            # identify document ids where the tweets are similar\n",
    "            similarDocs = np.where(doc_dist_array_txt <= dist_threshold_txt)[0]\n",
    "            processedTweets.ix[processedTweets.index.isin(similarDocs) & processedTweets['cluster_ref'].isin([None]), 'cluster_ref'] = cluster_id\n",
    "            cluster_id = cluster_id + 1\n",
    "        except ValueError:\n",
    "            continue\n",
    "\n",
    "    return processedTweets"
   ]
  },
  {
   "cell_type": "markdown",
   "metadata": {},
   "source": [
    "Calculating cosine distance"
   ]
  },
  {
   "cell_type": "code",
   "execution_count": null,
   "metadata": {},
   "outputs": [],
   "source": [
    "def tokenize_only(text):\n",
    "    # first tokenize by sentence, then by word to ensure that punctuation is caught as it's own token\n",
    "    tokens = [word.lower() for sent in nltk.sent_tokenize(text) for word in nltk.word_tokenize(sent)]\n",
    "    filtered_tokens = []\n",
    "    # filter out any tokens not containing letters (e.g., numeric tokens, raw punctuation)\n",
    "    for token in tokens:\n",
    "        if re.search('[a-zA-Z]', token):\n",
    "            filtered_tokens.append(token)\n",
    "    return filtered_tokens"
   ]
  },
  {
   "cell_type": "code",
   "execution_count": 59,
   "metadata": {},
   "outputs": [],
   "source": [
    "def get_clusters(processedTweets, similarity_threshold):\n",
    "    tweets = processedTweets['text'].tolist()\n",
    "\n",
    "    vectorizer =  CountVectorizer(max_df=1.0, min_df=1, stop_words=stopwords, tokenizer=tokenize_only) \n",
    "\n",
    "    dtf_matrix = vectorizer.fit_transform(tweets) \n",
    "    dist_text = np.around(abs(1 - cosine_similarity(dtf_matrix)),2)\n",
    "    \n",
    "    processedTweets['cluster_ref'] = None\n",
    "\n",
    "    processedTweets = cluster_text(dist_text,processedTweets,dist_threshold_txt = (1-similarity_threshold))\n",
    "    \n",
    "    \n",
    "    return processedTweet"
   ]
  },
  {
   "cell_type": "markdown",
   "metadata": {},
   "source": [
    "### Topic Modelling with Latent Dirichlet Allocation (LDA)"
   ]
  },
  {
   "cell_type": "markdown",
   "metadata": {},
   "source": [
    "Start with topic extraction"
   ]
  },
  {
   "cell_type": "code",
   "execution_count": 64,
   "metadata": {},
   "outputs": [],
   "source": [
    "import lda # topic modeling -NMF & LDA\n",
    "import string\n",
    "from nltk.tag import StanfordNERTagger\n",
    "# Load the LDA model from sk-learn\n",
    "from sklearn.decomposition import LatentDirichletAllocation as LDA\n",
    "# Tf-Idf and Clustering packages\n",
    "from sklearn.feature_extraction.text import TfidfVectorizer, CountVectorizer\n",
    "from nltk import tokenize as tok\n",
    "\n",
    "df_lda = df"
   ]
  },
  {
   "cell_type": "code",
   "execution_count": 47,
   "metadata": {},
   "outputs": [],
   "source": [
    "# Helper functions\n",
    "def print_topics(model, count_vectorizer, n_top_words):\n",
    "    words = count_vectorizer.get_feature_names()\n",
    "    for topic_idx, topic in enumerate(model.components_):\n",
    "        print(\"\\nTopic #%d:\" % topic_idx)\n",
    "        print(\" \".join([words[i]\n",
    "                        for i in topic.argsort()[:-n_top_words - 1:-1]])) \n",
    "\n",
    "# Show top n keywords for each topic\n",
    "def show_topics(vectorizer, lda_model, n_words=20):\n",
    "    keywords = np.array(vectorizer.get_feature_names())\n",
    "    topic_keywords = []\n",
    "    for topic_weights in lda_model.components_:\n",
    "        top_keyword_locs = (-topic_weights).argsort()[:n_words]\n",
    "        topic_keywords.append(keywords.take(top_keyword_locs))\n",
    "    return topic_keywords\n",
    "     "
   ]
  },
  {
   "cell_type": "code",
   "execution_count": 65,
   "metadata": {},
   "outputs": [],
   "source": [
    "# parameter for lda\n",
    "number_topics = 5\n",
    "number_words = 5"
   ]
  },
  {
   "cell_type": "code",
   "execution_count": 66,
   "metadata": {},
   "outputs": [],
   "source": [
    "def topic_extraction(dataframe):\n",
    "\n",
    "    tweets_all_topics= pd.DataFrame()\n",
    "    \n",
    "    # term frequency modelling\n",
    "    for terms in dataframe['Ticker'].unique():\n",
    "        print(terms)\n",
    "        tweets_search_topics  = dataframe[dataframe['Ticker']==terms].reset_index(drop=True)\n",
    "        \n",
    "        corpus = tweets_search_topics['Lemma'].tolist()\n",
    "        # print(corpus)\n",
    "        tf_vectorizer = CountVectorizer(max_df=0.9, min_df=0.00, tokenizer=tokenize_only) # Use tf (raw term count) features for LDA.\n",
    "        tf = tf_vectorizer.fit_transform(corpus)\n",
    "\n",
    "        # Create and fit the LDA model\n",
    "        model = LDA(n_components=number_topics, n_jobs=-1)\n",
    "        id_topic = model.fit(tf)\n",
    "        # Print the topics found by the LDA model\n",
    "        print(\"Topics found via LDA:\")\n",
    "        topic_keywords = show_topics(vectorizer=tf_vectorizer, lda_model=model, n_words=number_words)        \n",
    "        # Topic - Keywords Dataframe\n",
    "        df_topic_keywords = pd.DataFrame(topic_keywords)\n",
    "        df_topic_keywords.columns = ['Word '+str(i) for i in range(df_topic_keywords.shape[1])]\n",
    "        df_topic_keywords.index = ['Topic '+str(i) for i in range(df_topic_keywords.shape[0])]\n",
    "        df_topic_keywords = df_topic_keywords.reset_index()\n",
    "        df_topic_keywords['topic_index'] = df_topic_keywords['index'].str.split(' ', n = 1, expand = True)[[1]].astype('int')\n",
    "        print(df_topic_keywords)\n",
    "\n",
    "        ############ get the dominat topic for each document in a data frame ###############\n",
    "        # Create Document — Topic Matrix\n",
    "        lda_output = model.transform(tf)\n",
    "        # column names\n",
    "        topicnames = [\"Topic\" + str(i) for i in range(model.n_components)]\n",
    "        # index names\n",
    "        docnames = [\"Doc\" + str(i) for i in range(len(corpus))]\n",
    "\n",
    "        # Make the pandas dataframe\n",
    "        df_document_topic = pd.DataFrame(np.round(lda_output, 2), columns=topicnames, index=docnames)\n",
    "        # Get dominant topic for each document\n",
    "        dominant_topic = np.argmax(df_document_topic.values, axis=1)\n",
    "        df_document_topic['dominant_topic'] = dominant_topic   \n",
    "        df_document_topic = df_document_topic.reset_index()\n",
    "\n",
    "        #combine all the search terms into one data frame\n",
    "        tweets_topics = tweets_search_topics.merge(df_document_topic, left_index=True, right_index=True, how='left')\n",
    "        tweets_topics_words = tweets_topics.merge(df_topic_keywords, how='left', left_on='dominant_topic', right_on='topic_index')\n",
    "        tweets_all_topics = tweets_all_topics.append(tweets_topics_words)\n",
    "    \n",
    "    return tweets_all_topics\n"
   ]
  },
  {
   "cell_type": "code",
   "execution_count": 71,
   "metadata": {},
   "outputs": [
    {
     "name": "stdout",
     "output_type": "stream",
     "text": [
      "$TSLA\n",
      "Topics found via LDA:\n",
      "     index Word 0 Word 1 Word 2 Word 3 Word 4  topic_index\n",
      "0  Topic 0   tsla  tesla    buy   rivn   lcid            0\n",
      "1  Topic 1   tsla   elon  tesla   sell  alert            1\n",
      "2  Topic 2   tsla   lcid    gme   mara  today            2\n",
      "3  Topic 3   tsla  tesla   sell    buy   elon            3\n",
      "4  Topic 4   tsla   aapl  stock  short     fb            4\n",
      "$AAPL\n",
      "Topics found via LDA:\n",
      "     index Word 0 Word 1  Word 2 Word 3 Word 4  topic_index\n",
      "0  Topic 0   aapl    spy    tsla   call    qqq            0\n",
      "1  Topic 1   aapl   tsla    live    btc  today            1\n",
      "2  Topic 2   aapl    spy    make   tsla  trade            2\n",
      "3  Topic 3   aapl  apple     new  alert    top            3\n",
      "4  Topic 4   aapl     fb  change   tsla    gme            4\n",
      "$DOVA\n",
      "Topics found via LDA:\n",
      "     index  Word 0        Word 1  Word 2    Word 3 Word 4  topic_index\n",
      "0  Topic 0  coming  confirmation  credit  friendly     jp            0\n",
      "1  Topic 1  coming  confirmation  credit  friendly     jp            1\n",
      "2  Topic 2  coming  confirmation  credit  friendly     jp            2\n",
      "3  Topic 3  coming  confirmation  credit  friendly     jp            3\n",
      "4  Topic 4  coming  confirmation  credit  friendly     jp            4\n"
     ]
    }
   ],
   "source": [
    "df_lda = topic_extraction(df_lda)"
   ]
  },
  {
   "cell_type": "code",
   "execution_count": 73,
   "metadata": {},
   "outputs": [
    {
     "name": "stdout",
     "output_type": "stream",
     "text": [
      "(1942, 26)\n"
     ]
    },
    {
     "data": {
      "text/html": [
       "<div>\n",
       "<style scoped>\n",
       "    .dataframe tbody tr th:only-of-type {\n",
       "        vertical-align: middle;\n",
       "    }\n",
       "\n",
       "    .dataframe tbody tr th {\n",
       "        vertical-align: top;\n",
       "    }\n",
       "\n",
       "    .dataframe thead th {\n",
       "        text-align: right;\n",
       "    }\n",
       "</style>\n",
       "<table border=\"1\" class=\"dataframe\">\n",
       "  <thead>\n",
       "    <tr style=\"text-align: right;\">\n",
       "      <th></th>\n",
       "      <th>name</th>\n",
       "      <th>location</th>\n",
       "      <th>verified</th>\n",
       "      <th>text</th>\n",
       "      <th>created_at</th>\n",
       "      <th>source</th>\n",
       "      <th>retweets</th>\n",
       "      <th>favorites</th>\n",
       "      <th>Ticker</th>\n",
       "      <th>POS tagged</th>\n",
       "      <th>...</th>\n",
       "      <th>Topic3</th>\n",
       "      <th>Topic4</th>\n",
       "      <th>dominant_topic</th>\n",
       "      <th>index_y</th>\n",
       "      <th>Word 0</th>\n",
       "      <th>Word 1</th>\n",
       "      <th>Word 2</th>\n",
       "      <th>Word 3</th>\n",
       "      <th>Word 4</th>\n",
       "      <th>topic_index</th>\n",
       "    </tr>\n",
       "  </thead>\n",
       "  <tbody>\n",
       "    <tr>\n",
       "      <th>0</th>\n",
       "      <td>iamrgk_</td>\n",
       "      <td>Atlanta, GA</td>\n",
       "      <td>False</td>\n",
       "      <td>Money coming out of TSLA and flowing into RIVN</td>\n",
       "      <td>2021-11-16 13:58:01+00:00</td>\n",
       "      <td>Twitter for iPhone</td>\n",
       "      <td>0</td>\n",
       "      <td>0</td>\n",
       "      <td>$TSLA</td>\n",
       "      <td>[(Money, n), (coming, v), (TSLA, n), (flowing,...</td>\n",
       "      <td>...</td>\n",
       "      <td>0.03</td>\n",
       "      <td>0.03</td>\n",
       "      <td>1</td>\n",
       "      <td>Topic 1</td>\n",
       "      <td>tsla</td>\n",
       "      <td>elon</td>\n",
       "      <td>tesla</td>\n",
       "      <td>sell</td>\n",
       "      <td>alert</td>\n",
       "      <td>1</td>\n",
       "    </tr>\n",
       "    <tr>\n",
       "      <th>1</th>\n",
       "      <td>Kyes501</td>\n",
       "      <td></td>\n",
       "      <td>False</td>\n",
       "      <td>For best alerts daily join us Discord DSA KODK...</td>\n",
       "      <td>2021-11-16 13:57:48+00:00</td>\n",
       "      <td>Twitter for Android</td>\n",
       "      <td>0</td>\n",
       "      <td>0</td>\n",
       "      <td>$TSLA</td>\n",
       "      <td>[(best, a), (alerts, n), (daily, r), (join, v)...</td>\n",
       "      <td>...</td>\n",
       "      <td>0.01</td>\n",
       "      <td>0.01</td>\n",
       "      <td>2</td>\n",
       "      <td>Topic 2</td>\n",
       "      <td>tsla</td>\n",
       "      <td>lcid</td>\n",
       "      <td>gme</td>\n",
       "      <td>mara</td>\n",
       "      <td>today</td>\n",
       "      <td>2</td>\n",
       "    </tr>\n",
       "    <tr>\n",
       "      <th>2</th>\n",
       "      <td>Roger902102</td>\n",
       "      <td></td>\n",
       "      <td>False</td>\n",
       "      <td>Dave It would be nice to show how much tax ts...</td>\n",
       "      <td>2021-11-16 13:57:40+00:00</td>\n",
       "      <td>Twitter for iPhone</td>\n",
       "      <td>0</td>\n",
       "      <td>0</td>\n",
       "      <td>$TSLA</td>\n",
       "      <td>[(Dave, v), (would, None), (nice, a), (show, v...</td>\n",
       "      <td>...</td>\n",
       "      <td>0.01</td>\n",
       "      <td>0.01</td>\n",
       "      <td>1</td>\n",
       "      <td>Topic 1</td>\n",
       "      <td>tsla</td>\n",
       "      <td>elon</td>\n",
       "      <td>tesla</td>\n",
       "      <td>sell</td>\n",
       "      <td>alert</td>\n",
       "      <td>1</td>\n",
       "    </tr>\n",
       "    <tr>\n",
       "      <th>3</th>\n",
       "      <td>ITesla8</td>\n",
       "      <td></td>\n",
       "      <td>False</td>\n",
       "      <td>Please dips it hard real hard today TSLA</td>\n",
       "      <td>2021-11-16 13:57:28+00:00</td>\n",
       "      <td>Twitter for iPhone</td>\n",
       "      <td>0</td>\n",
       "      <td>0</td>\n",
       "      <td>$TSLA</td>\n",
       "      <td>[(Please, n), (dips, v), (hard, a), (real, a),...</td>\n",
       "      <td>...</td>\n",
       "      <td>0.03</td>\n",
       "      <td>0.03</td>\n",
       "      <td>2</td>\n",
       "      <td>Topic 2</td>\n",
       "      <td>tsla</td>\n",
       "      <td>lcid</td>\n",
       "      <td>gme</td>\n",
       "      <td>mara</td>\n",
       "      <td>today</td>\n",
       "      <td>2</td>\n",
       "    </tr>\n",
       "    <tr>\n",
       "      <th>4</th>\n",
       "      <td>waterinsidegla1</td>\n",
       "      <td></td>\n",
       "      <td>False</td>\n",
       "      <td>TSLA is giving opportunity to other investors...</td>\n",
       "      <td>2021-11-16 13:57:24+00:00</td>\n",
       "      <td>Twitter for iPhone</td>\n",
       "      <td>0</td>\n",
       "      <td>0</td>\n",
       "      <td>$TSLA</td>\n",
       "      <td>[(TSLA, n), (giving, v), (opportunity, n), (in...</td>\n",
       "      <td>...</td>\n",
       "      <td>0.52</td>\n",
       "      <td>0.02</td>\n",
       "      <td>3</td>\n",
       "      <td>Topic 3</td>\n",
       "      <td>tsla</td>\n",
       "      <td>tesla</td>\n",
       "      <td>sell</td>\n",
       "      <td>buy</td>\n",
       "      <td>elon</td>\n",
       "      <td>3</td>\n",
       "    </tr>\n",
       "  </tbody>\n",
       "</table>\n",
       "<p>5 rows × 26 columns</p>\n",
       "</div>"
      ],
      "text/plain": [
       "              name     location  verified  \\\n",
       "0          iamrgk_  Atlanta, GA     False   \n",
       "1          Kyes501                  False   \n",
       "2      Roger902102                  False   \n",
       "3          ITesla8                  False   \n",
       "4  waterinsidegla1                  False   \n",
       "\n",
       "                                                text  \\\n",
       "0     Money coming out of TSLA and flowing into RIVN   \n",
       "1  For best alerts daily join us Discord DSA KODK...   \n",
       "2   Dave It would be nice to show how much tax ts...   \n",
       "3           Please dips it hard real hard today TSLA   \n",
       "4   TSLA is giving opportunity to other investors...   \n",
       "\n",
       "                 created_at               source  retweets  favorites Ticker  \\\n",
       "0 2021-11-16 13:58:01+00:00   Twitter for iPhone         0          0  $TSLA   \n",
       "1 2021-11-16 13:57:48+00:00  Twitter for Android         0          0  $TSLA   \n",
       "2 2021-11-16 13:57:40+00:00   Twitter for iPhone         0          0  $TSLA   \n",
       "3 2021-11-16 13:57:28+00:00   Twitter for iPhone         0          0  $TSLA   \n",
       "4 2021-11-16 13:57:24+00:00   Twitter for iPhone         0          0  $TSLA   \n",
       "\n",
       "                                          POS tagged  ... Topic3  Topic4  \\\n",
       "0  [(Money, n), (coming, v), (TSLA, n), (flowing,...  ...   0.03    0.03   \n",
       "1  [(best, a), (alerts, n), (daily, r), (join, v)...  ...   0.01    0.01   \n",
       "2  [(Dave, v), (would, None), (nice, a), (show, v...  ...   0.01    0.01   \n",
       "3  [(Please, n), (dips, v), (hard, a), (real, a),...  ...   0.03    0.03   \n",
       "4  [(TSLA, n), (giving, v), (opportunity, n), (in...  ...   0.52    0.02   \n",
       "\n",
       "  dominant_topic  index_y  Word 0  Word 1  Word 2  Word 3  Word 4 topic_index  \n",
       "0              1  Topic 1    tsla    elon   tesla    sell   alert           1  \n",
       "1              2  Topic 2    tsla    lcid     gme    mara   today           2  \n",
       "2              1  Topic 1    tsla    elon   tesla    sell   alert           1  \n",
       "3              2  Topic 2    tsla    lcid     gme    mara   today           2  \n",
       "4              3  Topic 3    tsla   tesla    sell     buy    elon           3  \n",
       "\n",
       "[5 rows x 26 columns]"
      ]
     },
     "execution_count": 73,
     "metadata": {},
     "output_type": "execute_result"
    }
   ],
   "source": [
    "df_lda = df_lda.reset_index(drop=True)\n",
    "print(df_lda.shape)\n",
    "df_lda.head()"
   ]
  },
  {
   "cell_type": "code",
   "execution_count": 76,
   "metadata": {},
   "outputs": [],
   "source": [
    "df_lda.to_csv('processed_data/df_lda.csv', index=False)"
   ]
  },
  {
   "cell_type": "markdown",
   "metadata": {},
   "source": [
    "### Train the Model"
   ]
  },
  {
   "cell_type": "code",
   "execution_count": null,
   "metadata": {},
   "outputs": [],
   "source": []
  },
  {
   "cell_type": "markdown",
   "metadata": {},
   "source": [
    "### Correlation with Price"
   ]
  },
  {
   "cell_type": "code",
   "execution_count": 68,
   "metadata": {},
   "outputs": [
    {
     "data": {
      "text/plain": [
       "2"
      ]
     },
     "execution_count": 68,
     "metadata": {},
     "output_type": "execute_result"
    }
   ],
   "source": [
    "#sentiment analysis with price correlation: opening - closing"
   ]
  },
  {
   "cell_type": "code",
   "execution_count": null,
   "metadata": {},
   "outputs": [],
   "source": []
  },
  {
   "cell_type": "code",
   "execution_count": null,
   "metadata": {},
   "outputs": [],
   "source": []
  }
 ],
 "metadata": {
  "kernelspec": {
   "display_name": "Python 3 (ipykernel)",
   "language": "python",
   "name": "python3"
  },
  "language_info": {
   "codemirror_mode": {
    "name": "ipython",
    "version": 3
   },
   "file_extension": ".py",
   "mimetype": "text/x-python",
   "name": "python",
   "nbconvert_exporter": "python",
   "pygments_lexer": "ipython3",
   "version": "3.8.12"
  }
 },
 "nbformat": 4,
 "nbformat_minor": 4
}
