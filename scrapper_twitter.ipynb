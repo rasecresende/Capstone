{
 "cells": [
  {
   "cell_type": "code",
   "execution_count": 1,
   "id": "6d49eeb4",
   "metadata": {},
   "outputs": [
    {
     "name": "stdout",
     "output_type": "stream",
     "text": [
      "Authentication OK\n"
     ]
    }
   ],
   "source": [
    "import snscrape.modules.twitter as sntwitter\n",
    "import tweepy\n",
    "import numpy as np\n",
    "import pandas as pd\n",
    "import matplotlib.pyplot as plt\n",
    "\n",
    "# Variables that contains the credentials to access Twitter API\n",
    "access_token = \"1448945590046429231-T2ILZExNgwfyfMdNZOeqNddriW0zqY\"\n",
    "access_secret = \"ov6408TNBm51LoLonCTdrkOxhTI4qyZ0vfWbCFBvwpY4M\"\n",
    "consumer_key = \"nnZZPRiNSrpH3OkD8Mbmm8eK1\"\n",
    "consumer_secret = \"LR12mPsQjJ6vOw8KTEBDlG5xHdOikQhXYHBUCpVuFlpfi2gaQ2\"\n",
    "\n",
    "\n",
    "# Authenticate to Twitter\n",
    "auth = tweepy.OAuthHandler(consumer_key, consumer_secret)\n",
    "auth.set_access_token(access_token, access_secret)\n",
    "\n",
    "# Create API object\n",
    "api = tweepy.API(auth, wait_on_rate_limit=True)\n",
    "\n",
    "\n",
    "try:\n",
    "    api.verify_credentials()\n",
    "    print(\"Authentication OK\")\n",
    "except:\n",
    "    print(\"Error during authentication\")"
   ]
  },
  {
   "cell_type": "code",
   "execution_count": 2,
   "id": "04a52102",
   "metadata": {},
   "outputs": [],
   "source": [
    "tickers = ['$GME', '$AMC', '$UPST', '$GOOGL', '$AAPL', '$MSFT', '$SAVA', '$AMZN', '$BB', '$BBY']\n",
    "since_date = '2021-01-01'\n",
    "until_date = '2021-10-31'\n",
    "min_likes = 1\n",
    "count = 10000"
   ]
  },
  {
   "cell_type": "code",
   "execution_count": 3,
   "id": "54a48dad",
   "metadata": {},
   "outputs": [],
   "source": [
    "# Creating list to append tweet data to\n",
    "tweets_list = []\n",
    "\n",
    "for ticker in range(len(tickers)):\n",
    "    # Using TwitterSearchScraper to scrape data and append tweets to list\n",
    "    for i,tweet in enumerate(sntwitter.TwitterSearchScraper(\n",
    "        f'{tickers[ticker]} -filter:retweets since:{since_date} until:{until_date} lang:en min_faves:{min_likes}').get_items()):\n",
    "\n",
    "        if i>count: #number of tweets\n",
    "            break\n",
    "\n",
    "        date = tweet.date\n",
    "        content = tweet.content\n",
    "        likeCount = tweet.likeCount\n",
    "        source = tweet.source\n",
    "        entity = tickers[ticker]\n",
    "\n",
    "        tweets_list.append([date, content, likeCount, source, entity])\n",
    "\n",
    "\n",
    "    # Creating a dataframe from the tweets list above\n",
    "    tweets_df = pd.DataFrame(tweets_list, columns = ['Date',\n",
    "                                                     'Text',\n",
    "                                                     'Likes',\n",
    "                                                     'Source',\n",
    "                                                    'entity'])\n",
    "    "
   ]
  },
  {
   "cell_type": "code",
   "execution_count": 11,
   "id": "963424d1",
   "metadata": {},
   "outputs": [],
   "source": [
    "tweets_df.to_csv('C:/Users/jrese/capstone_dump/Data/tweets_df.csv')"
   ]
  },
  {
   "cell_type": "code",
   "execution_count": null,
   "id": "f81b9e67",
   "metadata": {},
   "outputs": [],
   "source": []
  },
  {
   "cell_type": "code",
   "execution_count": null,
   "id": "8bc9a397",
   "metadata": {},
   "outputs": [],
   "source": []
  },
  {
   "cell_type": "code",
   "execution_count": null,
   "id": "b613f169",
   "metadata": {},
   "outputs": [],
   "source": []
  }
 ],
 "metadata": {
  "kernelspec": {
   "display_name": "Python 3 (ipykernel)",
   "language": "python",
   "name": "python3"
  },
  "language_info": {
   "codemirror_mode": {
    "name": "ipython",
    "version": 3
   },
   "file_extension": ".py",
   "mimetype": "text/x-python",
   "name": "python",
   "nbconvert_exporter": "python",
   "pygments_lexer": "ipython3",
   "version": "3.8.12"
  }
 },
 "nbformat": 4,
 "nbformat_minor": 5
}
